{
 "cells": [
  {
   "cell_type": "markdown",
   "metadata": {},
   "source": [
    "# =====================================\n",
    "#\n",
    "# Copyright (c) 2023, AUSTRAC Australian Government\n",
    "# All rights reserved.\n",
    "#\n",
    "# Licensed under BSD 3 clause license\n",
    "#  \n",
    "########################################\n"
   ]
  },
  {
   "cell_type": "code",
   "execution_count": null,
   "metadata": {},
   "outputs": [],
   "source": [
    "import ftillite as fl\n",
    "\n",
    "# conf = fl.FTILConf().set_app_name(\"verbose\")\\\n",
    "# .set_rabbitmq_conf({'user': 'guest', 'password': 'guest', 'host': 'rabbitserver'})\n",
    "\n",
    "conf = fl.FTILConf().set_app_name(\"verbose\")\\\n",
    ".set_rabbitmq_conf({'user': 'guest', 'password': 'guest', 'host': 'localhost', 'AUSTRAC':'0', 'ANZ':'1', 'CBA':'2', 'NAB':'3', 'WPC':'4'})\n",
    "\n",
    "fc = fl.FTILContext(conf = conf)\n",
    "a = fc.array('i', 10, 7)"
   ]
  }
 ],
 "metadata": {
  "kernelspec": {
   "display_name": "Python 3.8.13 ('ftillite-wsl')",
   "language": "python",
   "name": "python3"
  },
  "language_info": {
   "codemirror_mode": {
    "name": "ipython",
    "version": 3
   },
   "file_extension": ".py",
   "mimetype": "text/x-python",
   "name": "python",
   "nbconvert_exporter": "python",
   "pygments_lexer": "ipython3",
   "version": "3.8.13"
  },
  "vscode": {
   "interpreter": {
    "hash": "3a8525375a41fc33739e090de63ff99192c95d71e9674e5bfee23c38f265cbd2"
   }
  }
 },
 "nbformat": 4,
 "nbformat_minor": 2
}
