{
 "cells": [
  {
   "cell_type": "code",
   "execution_count": 4,
   "metadata": {},
   "outputs": [],
   "source": [
    "import ftillite as fl\n",
    "import logging\n",
    "from datetime import datetime\n",
    "from logging.handlers import RotatingFileHandler\n",
    "import sys \n",
    "\n",
    "app_name = \"test_cases\"\n",
    "def create_logger(x, app_name):\n",
    "    logger = logging.getLogger(x)\n",
    "    logger.setLevel(logging.INFO)\n",
    "    # formatter = logging.Formatter('%(asctime)s,%(msecs)d %(name)s %(levelname)s %(message)s')\n",
    "    formatter = logging.Formatter('%(asctime)s %(levelname)s: %(message)s')\n",
    "    fn = f'logs/LOG-{x}-{app_name}-{ datetime.now().strftime(\"%Y_%m_%d-%H:%M:%S:%f\")}'\n",
    "    \n",
    "    file_handler = RotatingFileHandler(fn, maxBytes=200000000, backupCount=5)\n",
    "    file_handler.setFormatter(formatter)\n",
    "    file_handler.setLevel(logging.INFO)\n",
    "    logger.addHandler(file_handler)\n",
    "    \n",
    "    stdout_handler = logging.StreamHandler(sys.stdout)\n",
    "    stdout_handler.setLevel(logging.WARNING)\n",
    "    stdout_handler.setFormatter(formatter)\n",
    "    logger.addHandler(stdout_handler)\n",
    "    return logger\n",
    "\n",
    "logger_all = create_logger('ALL', app_name)\n",
    "logger_client = create_logger('CLIENT', app_name)\n",
    "logger_compute_mgr = create_logger('COMPUTE MGR', app_name)\n",
    "logger_segment_client = create_logger('SEGMENT CLIENT', app_name)\n",
    "\n",
    "conf = fl.FTILConf().set_app_name(\"nonverbose\") \\\n",
    "                    .set_rabbitmq_conf({'user': 'ftillite', 'password': 'ftillite', 'host': 'localhost', 'AUSTRAC':'0', 'ANZ':'1', 'CBA':'2', 'NAB':'3', 'WPC':'4'})\\\n",
    "                    .set_client_logger(logger_client)\\\n",
    "                    .set_compute_manager_logger(logger_compute_mgr)\\\n",
    "                    .set_segment_client_logger(logger_segment_client)\n",
    "                    # .set_all_loggers(logger_all)\n",
    "    \n",
    "\n",
    "fc = fl.FTILContext(conf = conf)\n",
    "\n"
   ]
  },
  {
   "cell_type": "code",
   "execution_count": null,
   "metadata": {},
   "outputs": [],
   "source": [
    "k1 = fc.arange(10)\n",
    "k2 = fc.array('f', 10, 1)\n",
    "a = fc.listmap([k1, k2])\n",
    "\n",
    "x = fl.transmit({i : a for i in fc.scope()})[fc.CoordinatorID]\n",
    "\n",
    "x.len()"
   ]
  },
  {
   "cell_type": "code",
   "execution_count": null,
   "metadata": {},
   "outputs": [],
   "source": [
    "v1 = fc.array(\"i\", 1, 5)\n",
    "v2 = v1.astype(\"I\")\n",
    "v3 = fc.array(\"I\", 10, v2)\n",
    "v4 = fc.array(\"i\", [5, 5, 5, 5, 5, 5, 5, 5, 5, 5])\n",
    "v5 = v4.astype(\"I\")\n",
    "v6 = v3 == v5\n",
    "assert fl.verify(v6)\n",
    "\n",
    "x = fl.transmit({i : v2 for i in fc.scope()})[fc.CoordinatorID]"
   ]
  }
 ],
 "metadata": {
  "kernelspec": {
   "display_name": "Python 3.8.10 ('venv': venv)",
   "language": "python",
   "name": "python3"
  },
  "language_info": {
   "codemirror_mode": {
    "name": "ipython",
    "version": 3
   },
   "file_extension": ".py",
   "mimetype": "text/x-python",
   "name": "python",
   "nbconvert_exporter": "python",
   "pygments_lexer": "ipython3",
   "version": "3.8.10"
  },
  "orig_nbformat": 4,
  "vscode": {
   "interpreter": {
    "hash": "e2cfbe7c08efb8aea00a54eb20c5e96637358f0edba2f2ed70d5ea4b11f27cbe"
   }
  }
 },
 "nbformat": 4,
 "nbformat_minor": 2
}
