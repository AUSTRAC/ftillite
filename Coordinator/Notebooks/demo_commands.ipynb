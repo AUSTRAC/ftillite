{
 "cells": [
  {
   "cell_type": "markdown",
   "id": "d2443462-ac77-455f-a48a-fba9800d79b3",
   "metadata": {
    "tags": []
   },
   "source": [
    "# About\n",
    "\n",
    "This notebook provides a set of examples to showcase the currently implemented features of FTILLite."
   ]
  },
  {
   "cell_type": "markdown",
   "id": "a7f6afa5-f06a-4c08-a8cb-11149c9dfc3d",
   "metadata": {},
   "source": [
    "## Establish Connection to Peers"
   ]
  },
  {
   "cell_type": "code",
   "execution_count": 1,
   "id": "586ac4f6",
   "metadata": {},
   "outputs": [],
   "source": [
    "import ftillite as fl\n",
    "import logging\n",
    "from datetime import datetime\n",
    "from logging.handlers import RotatingFileHandler\n",
    "import sys \n",
    "\n",
    "app_name = \"test_cases\"\n",
    "def create_logger(x, app_name):\n",
    "    logger = logging.getLogger(x)\n",
    "    logger.setLevel(logging.INFO)\n",
    "    # formatter = logging.Formatter('%(asctime)s,%(msecs)d %(name)s %(levelname)s %(message)s')\n",
    "    formatter = logging.Formatter('%(asctime)s %(levelname)s: %(message)s')\n",
    "    fn = f'logs/LOG-{x}-{app_name}-{ datetime.now().strftime(\"%Y_%m_%d-%H:%M:%S:%f\")}'\n",
    "    \n",
    "    file_handler = RotatingFileHandler(fn, maxBytes=200000000, backupCount=5)\n",
    "    file_handler.setFormatter(formatter)\n",
    "    file_handler.setLevel(logging.INFO)\n",
    "    logger.addHandler(file_handler)\n",
    "    \n",
    "    stdout_handler = logging.StreamHandler(sys.stdout)\n",
    "    stdout_handler.setLevel(logging.WARNING)\n",
    "    stdout_handler.setFormatter(formatter)\n",
    "    logger.addHandler(stdout_handler)\n",
    "    return logger\n",
    "\n",
    "logger_all = create_logger('ALL', app_name)\n",
    "logger_client = create_logger('CLIENT', app_name)\n",
    "logger_compute_mgr = create_logger('COMPUTE MGR', app_name)\n",
    "logger_segment_client = create_logger('SEGMENT CLIENT', app_name)\n",
    "\n",
    "conf = fl.FTILConf().set_app_name(\"nonverbose\") \\\n",
    "                    .set_rabbitmq_conf({'user': 'ftillite', 'password': 'ftillite', 'host': 'rabbitserver', 'AUSTRAC':'0', 'ANZ':'1', 'CBA':'2', 'NAB':'3', 'WPC':'4'})\\\n",
    "                    .set_client_logger(logger_client)\\\n",
    "                    .set_compute_manager_logger(logger_compute_mgr)\\\n",
    "                    .set_segment_client_logger(logger_segment_client)\n",
    "                    # .set_all_loggers(logger_all)\n",
    "    \n",
    "\n",
    "fc = fl.FTILContext(conf = conf)"
   ]
  },
  {
   "cell_type": "markdown",
   "id": "259ddb2b-d6aa-4922-a963-5ec5a1efb58e",
   "metadata": {},
   "source": [
    "## Array Creation"
   ]
  },
  {
   "cell_type": "code",
   "execution_count": 2,
   "id": "51bd393b-f92f-460c-9463-8d9004362b03",
   "metadata": {},
   "outputs": [
    {
     "name": "stdout",
     "output_type": "stream",
     "text": [
      "[0, 0, 0, 0, 0, 0, 0, 0, 0, 0]\n",
      "[7, 7, 7, 7, 7, 7, 7, 7, 7, 7]\n",
      "[2, 3, 4]\n",
      "[0.0, 0.0, 0.0, 0.0, 0.0, 0.0, 0.0, 0.0, 0.0, 0.0]\n",
      "[7.0, 7.0, 7.0, 7.0, 7.0, 7.0, 7.0, 7.0, 7.0, 7.0]\n",
      "[7.0, 7.0, 7.0, 7.0, 7.0, 7.0, 7.0, 7.0, 7.0, 7.0]\n",
      "[2.6, 5.3, 6.7]\n",
      "[0, 1, 2, 3, 4, 5, 6, 7, 8, 9]\n"
     ]
    }
   ],
   "source": [
    "# # Int arrays\n",
    "int_arr1 = fc.array('i', 10) # Only length provided\n",
    "print(int_arr1.tolist())\n",
    "int_arr2 = fc.array('i', 10, 7) # Length and single value provided\n",
    "print(int_arr2.tolist())\n",
    "int_arr3 = fc.array('i', [2, 3, 4]) # Python list of values provided\n",
    "print(int_arr3.tolist())\n",
    "\n",
    "# # Float arrays\n",
    "float_arr1 = fc.array('f', 10) # Only length provided\n",
    "print(float_arr1.tolist())\n",
    "float_arr2 = fc.array('f', 10, 7.0) # Length and single value provided\n",
    "print(float_arr2.tolist())\n",
    "float_arr3 = fc.array('f', 10, 7) # Length and single value provided\n",
    "print(float_arr3.tolist())\n",
    "float_arr4 = fc.array('f', [2.6, 5.3, 6.7])  # Python list of values provided\n",
    "print(float_arr4.tolist())\n",
    "\n",
    "# Bytearray arrays\n",
    "bytearray_arr1 = fc.array('b32', 10) # Only length provided\n",
    "# print(bytearray_arr1.tolist()) - Not supported\n",
    "\n",
    "# Arange\n",
    "arange_arr1 = fc.arange(10)\n",
    "print(arange_arr1.tolist())"
   ]
  },
  {
   "cell_type": "markdown",
   "id": "b300c966-e0cf-4673-9dee-5090d7ff1cae",
   "metadata": {},
   "source": [
    "# Array Methods"
   ]
  },
  {
   "cell_type": "markdown",
   "id": "293ec8d1-9e05-4994-b1f4-ad7329539de3",
   "metadata": {},
   "source": [
    "## Index"
   ]
  },
  {
   "cell_type": "code",
   "execution_count": 3,
   "id": "9b22ed2b-cea7-4580-bb9a-9b2404f744ed",
   "metadata": {},
   "outputs": [
    {
     "name": "stdout",
     "output_type": "stream",
     "text": [
      "[2, 4, 5, 6, 7, 10]\n",
      "[1, 6, 7, 8, 9, 10, 11, 14]\n"
     ]
    }
   ],
   "source": [
    "index_int_arr1 = fc.array('i', [0, 0, 200, 0, 300, 400, -10, -10000, 0, 0, 855])\n",
    "index_int_arr2 = index_int_arr1.index()\n",
    "print(list(index_int_arr2))\n",
    "\n",
    "index_float_arr1 = fc.array('f', [0, 1.555, 0, 0, 0, 0, 42.5, -34.2, 300, 400, -10, -10000, 0, 0, 855])\n",
    "index_float_arr2 = index_float_arr1.index()\n",
    "print(list(index_float_arr2))"
   ]
  },
  {
   "cell_type": "markdown",
   "id": "8e4e304a-258d-475d-952a-cd7ea100b1df",
   "metadata": {},
   "source": [
    "## Get Length"
   ]
  },
  {
   "cell_type": "code",
   "execution_count": 4,
   "id": "1a5af760-24c4-4e71-a8f4-8ae130a0cead",
   "metadata": {},
   "outputs": [
    {
     "name": "stdout",
     "output_type": "stream",
     "text": [
      "[10]\n",
      "[10]\n",
      "10\n",
      "10\n"
     ]
    }
   ],
   "source": [
    "# Length Operators\n",
    "# Type 1 - len variable in golang\n",
    "print(int_arr1.len().tolist())\n",
    "print(float_arr1.len().tolist())\n",
    "\n",
    "# Type 2 - int on Python\n",
    "print(len(int_arr1))\n",
    "print(len(float_arr1))"
   ]
  },
  {
   "cell_type": "markdown",
   "id": "07934170-6046-414e-a3e9-04455cc3fe39",
   "metadata": {},
   "source": [
    "## Set Length"
   ]
  },
  {
   "cell_type": "code",
   "execution_count": 5,
   "id": "e2b64d90-0e89-4839-8f4a-715c5da8fb00",
   "metadata": {},
   "outputs": [
    {
     "name": "stdout",
     "output_type": "stream",
     "text": [
      "[2, 3, 4, 0, 0, 0, 0, 0, 0, 0]\n",
      "[7.0, 7.0]\n"
     ]
    }
   ],
   "source": [
    "int_arr3.set_length(10)\n",
    "print(int_arr3.tolist())\n",
    "\n",
    "float_arr3.set_length(2)\n",
    "print(float_arr3.tolist())"
   ]
  },
  {
   "cell_type": "markdown",
   "id": "1cbf373a-2c8c-4b60-969b-236e25d90620",
   "metadata": {},
   "source": [
    "## Get Item"
   ]
  },
  {
   "cell_type": "code",
   "execution_count": 6,
   "id": "3c59e0d6-65f1-4a5c-858a-2663a90efd5a",
   "metadata": {},
   "outputs": [
    {
     "name": "stdout",
     "output_type": "stream",
     "text": [
      "[2]\n",
      "[2, 3]\n",
      "[0]\n",
      "[0, 0]\n",
      "[0, 0]\n",
      "[2, 3, 4, 0, 0, 0, 0, 0, 0, 0]\n",
      "[7.0]\n",
      "[7.0, 7.0]\n",
      "[7.0]\n",
      "[0, 0]\n",
      "[0, 0]\n",
      "[2, 3, 4, 0, 0, 0, 0, 0, 0, 0]\n"
     ]
    }
   ],
   "source": [
    "# Int\n",
    "int_getitem = int_arr3[0]\n",
    "print(int_getitem.tolist())\n",
    "\n",
    "int_getitem = int_arr3[0:2]\n",
    "print(int_getitem.tolist())\n",
    "\n",
    "int_getitem = int_arr3[-1]\n",
    "print(int_getitem.tolist())\n",
    "\n",
    "int_getitem = int_arr3[-3:-1]\n",
    "print(int_getitem.tolist())\n",
    "\n",
    "int_getitem = int_arr3[-2:]\n",
    "print(int_getitem.tolist())\n",
    "\n",
    "int_getitem = int_arr3[:]\n",
    "print(int_getitem.tolist())\n",
    "\n",
    "# Float\n",
    "float_getitem = float_arr3[1]\n",
    "print(float_getitem.tolist())\n",
    "\n",
    "float_getitem = float_arr3[0:2]\n",
    "print(float_getitem.tolist())\n",
    "\n",
    "float_getitem = float_arr3[-1]\n",
    "print(float_getitem.tolist())\n",
    "\n",
    "float_getitem = int_arr3[-3:-1]\n",
    "print(float_getitem.tolist())\n",
    "\n",
    "float_getitem = int_arr3[-2:]\n",
    "print(float_getitem.tolist())\n",
    "\n",
    "float_getitem = int_arr3[:]\n",
    "print(float_getitem.tolist())\n",
    "\n",
    "# bytearray\n",
    "bytearray_getitem1 = bytearray_arr1[0:3]"
   ]
  },
  {
   "cell_type": "markdown",
   "id": "efea175f-3746-45f5-b439-81c9c3cb56f2",
   "metadata": {},
   "source": [
    "## Lookup"
   ]
  },
  {
   "cell_type": "code",
   "execution_count": 7,
   "id": "d328aff3-e89b-4818-a01e-97a14993f324",
   "metadata": {},
   "outputs": [
    {
     "name": "stdout",
     "output_type": "stream",
     "text": [
      "[2]\n",
      "[100]\n",
      "[2, 3]\n",
      "[7.0]\n",
      "[100.0]\n"
     ]
    }
   ],
   "source": [
    "# Int\n",
    "int_lookupitem1 = int_arr3.lookup(0, 1)\n",
    "print(int_lookupitem1.tolist())\n",
    "\n",
    "int_lookupitem2 = int_arr3.lookup(10, 100)\n",
    "print(int_lookupitem2.tolist())\n",
    "\n",
    "int_lookupitem3 = int_arr3.lookup(slice(0,2))\n",
    "print(int_lookupitem3.tolist())\n",
    "\n",
    "# Float\n",
    "float_lookupitem1 = float_arr3.lookup(0, 1.0)\n",
    "print(float_lookupitem1.tolist())\n",
    "\n",
    "float_lookupitem2 = float_arr3.lookup(10, 100.0)\n",
    "print(float_lookupitem2.tolist())"
   ]
  },
  {
   "cell_type": "markdown",
   "id": "5da9b85e-95d9-48c5-93c0-729ef939f81d",
   "metadata": {},
   "source": [
    "## Set Item"
   ]
  },
  {
   "cell_type": "code",
   "execution_count": 8,
   "id": "6b3108fc-6d54-47e8-9243-0a541793f110",
   "metadata": {},
   "outputs": [
    {
     "name": "stdout",
     "output_type": "stream",
     "text": [
      "[2, 2, 2, 2, 2, 2, 2, 2, 2, 2]\n",
      "[2, 6, 2, 2, 2, 2, 2, 2, 2, 2]\n",
      "[2, 6, 2, 2, 2, 2, 2, 3, 3, 3]\n",
      "[2, 6, 2, 2, 2, 56, 56, 56, 56, 56]\n",
      "[2, 6, 2, 2, 2, 56, 56, 56, 56, -17]\n",
      "[2, 100, 100, 100, 100, 100, 56, 56, 56, -17]\n",
      "[2.0, 2.0, 2.0, 2.0, 2.0, 2.0, 2.0, 2.0, 2.0, 2.0]\n",
      "[2.0, 6.0, 2.0, 2.0, 2.0, 2.0, 2.0, 2.0, 2.0, 2.0]\n",
      "[2.0, 6.0, 2.0, 2.0, 2.0, 2.0, 2.0, 3.0, 3.0, 3.0]\n",
      "[2.0, 20.444, 20.444, 20.444, 20.444, 20.444, 2.0, 3.0, 3.0, 3.0]\n"
     ]
    }
   ],
   "source": [
    "# Int\n",
    "int_setitem = fc.array(\"i\", 10, 2)\n",
    "print(int_setitem.tolist())\n",
    "\n",
    "int_setitem[1] = 6\n",
    "print(int_setitem.tolist())\n",
    "\n",
    "int_setitem[7:10] = 3\n",
    "print(int_setitem.tolist())\n",
    "\n",
    "int_setitem[5:] = 56\n",
    "print(int_setitem.tolist())\n",
    "\n",
    "int_setitem[-1] = -17\n",
    "print(int_setitem.tolist())\n",
    "\n",
    "int_setitem2 = fc.array(\"i\", 5, 100)\n",
    "int_setitem[1:6] = int_setitem2\n",
    "print(int_setitem.tolist())\n",
    "\n",
    "# Float\n",
    "float_setitem = fc.array(\"f\", 10, 2.0)\n",
    "print(float_setitem.tolist())\n",
    "\n",
    "float_setitem[1] = 6.0\n",
    "print(float_setitem.tolist())\n",
    "\n",
    "float_setitem[7:10] = 3.0\n",
    "print(float_setitem.tolist())\n",
    "\n",
    "float_setitem2 = fc.array(\"f\", 5, 20.444)\n",
    "float_setitem[1:6] = float_setitem2\n",
    "print(float_setitem.tolist())\n",
    "\n",
    "# bytearray - not tested yet"
   ]
  },
  {
   "cell_type": "markdown",
   "id": "29aefe23-45d0-4281-a3ff-a19b2c50e1a0",
   "metadata": {},
   "source": [
    "## Reducesum"
   ]
  },
  {
   "cell_type": "code",
   "execution_count": 9,
   "id": "17f77682-8f1c-415d-b301-fa75dafb012d",
   "metadata": {},
   "outputs": [
    {
     "name": "stdout",
     "output_type": "stream",
     "text": [
      "[2, 2, 2, 2, 2, 2, 2, 2, 2, 2]\n",
      "[5, 16, 2, 3, 2, 2, 2, 2, 2, 2]\n",
      "[2.5, 2.5, 2.5, 2.5, 2.5, 2.5, 2.5, 2.5, 2.5, 2.5]\n",
      "[5.0, 16.611, 2.2, 3.333, 2.5, 2.5, 2.5, 2.5, 2.5, 2.5]\n"
     ]
    }
   ],
   "source": [
    "int_reducesum1 = fc.array(\"i\", 10, 2)\n",
    "print(int_reducesum1.tolist())\n",
    "int_reducesum1.reduce_sum([0,1,1,2,3], [5,6,10,2,3])\n",
    "print(int_reducesum1.tolist())\n",
    "\n",
    "float_reducesum1 = fc.array(\"f\", 10, 2.5)\n",
    "print(float_reducesum1.tolist())\n",
    "float_reducesum1.reduce_sum([0,1,1,2,3], [5.0,6.5,10.111,2.2,3.333])\n",
    "print(float_reducesum1.tolist())"
   ]
  },
  {
   "cell_type": "markdown",
   "id": "3f7db394-8284-45f8-8b4d-b839d8d0121f",
   "metadata": {},
   "source": [
    "## Randomarray"
   ]
  },
  {
   "cell_type": "code",
   "execution_count": 10,
   "id": "aeeb3e1f-722f-4f86-80fc-7aaaf78896b2",
   "metadata": {},
   "outputs": [
    {
     "name": "stdout",
     "output_type": "stream",
     "text": [
      "[2, 2, 5, 3, 5]\n",
      "[3.8212244979661723, 3.9667424662443853, 1.2917541862094999, 1.1189644217902013, 1.5452583554266517]\n"
     ]
    }
   ],
   "source": [
    "int_rand1 = fc.randomarray('i', 5, 1, 5)\n",
    "print(int_rand1.tolist())\n",
    "\n",
    "float_rand1 = fc.randomarray('f', 5, 1, 5)\n",
    "print(float_rand1.tolist())"
   ]
  },
  {
   "cell_type": "markdown",
   "id": "4cb91745-bcdc-478f-8660-ee0706ed5e93",
   "metadata": {},
   "source": [
    "## astype"
   ]
  },
  {
   "cell_type": "code",
   "execution_count": 11,
   "id": "96042cc7-1d72-4320-a839-dbe947cc5ba8",
   "metadata": {},
   "outputs": [
    {
     "name": "stdout",
     "output_type": "stream",
     "text": [
      "[2.0, 3.0, 4.0, 0.0, 0.0, 0.0, 0.0, 0.0, 0.0, 0.0]\n"
     ]
    },
    {
     "data": {
      "text/plain": [
       "<ftillite.client.BytearrayArrayIdentifier at 0x7efcec787100>"
      ]
     },
     "execution_count": 11,
     "metadata": {},
     "output_type": "execute_result"
    }
   ],
   "source": [
    "float_arr_astype = int_arr3.astype('f')\n",
    "print(float_arr_astype.tolist())\n",
    "\n",
    "bytearray_arr_astype = int_arr3.astype('b32')\n",
    "bytearray_arr_astype"
   ]
  },
  {
   "cell_type": "markdown",
   "id": "aca4cc82-e608-44eb-96db-a932d0e74ee3",
   "metadata": {},
   "source": [
    "## Delete Array"
   ]
  },
  {
   "cell_type": "code",
   "execution_count": 12,
   "id": "402c3130-c01c-4271-8b85-a1890044a4ed",
   "metadata": {},
   "outputs": [],
   "source": [
    "del int_arr1\n",
    "del float_arr1\n",
    "del bytearray_arr1"
   ]
  },
  {
   "cell_type": "markdown",
   "id": "25f43750-43a2-4749-bbbc-aa305c125de8",
   "metadata": {},
   "source": [
    "## Aux DB Read\n",
    "\n",
    "Note that you will need to have followed the steps in the README under the section **Populate the database locally**.\n",
    "\n",
    "Also note that the query doesn't run on the coordinator node and so tolist() won't yield any results."
   ]
  },
  {
   "cell_type": "code",
   "execution_count": 13,
   "id": "f7b5aeef",
   "metadata": {},
   "outputs": [
    {
     "name": "stdout",
     "output_type": "stream",
     "text": [
      "origin_id data: <ftillite.client.IntArrayIdentifier object at 0x7efd242560a0>\n",
      "dest_id data: <ftillite.client.IntArrayIdentifier object at 0x7efd2634c9a0>\n",
      "amount data: <ftillite.client.FloatArrayIdentifier object at 0x7efcec7ecfa0>\n",
      "datetime data: <ftillite.client.BytearrayArrayIdentifier object at 0x7efcebf48d60>\n",
      "origin_id data: <ftillite.client.IntArrayIdentifier object at 0x7efcec7a8fd0>\n",
      "dest_id data: <ftillite.client.IntArrayIdentifier object at 0x7efcebf48730>\n",
      "amount data: <ftillite.client.FloatArrayIdentifier object at 0x7efcebf48fa0>\n",
      "datetime data: <ftillite.client.BytearrayArrayIdentifier object at 0x7efd242a9820>\n"
     ]
    }
   ],
   "source": [
    "auxdb_read_res = fc.auxdb_read(\"SELECT origin_id, dest_id, amount, datetime FROM transactions limit 5\", \"iifb32\")\n",
    "print(f\"origin_id data: {auxdb_read_res[0]}\")\n",
    "print(f\"dest_id data: {auxdb_read_res[1]}\")\n",
    "print(f\"amount data: {auxdb_read_res[2]}\")\n",
    "print(f\"datetime data: {auxdb_read_res[3]}\")\n",
    "\n",
    "auxdb_read_res = fc.auxdb_read(\"SELECT origin_id, dest_id, amount, datetime FROM transactions limit 5\", \"i i f b32\")\n",
    "print(f\"origin_id data: {auxdb_read_res[0]}\")\n",
    "print(f\"dest_id data: {auxdb_read_res[1]}\")\n",
    "print(f\"amount data: {auxdb_read_res[2]}\")\n",
    "print(f\"datetime data: {auxdb_read_res[3]}\")"
   ]
  },
  {
   "cell_type": "markdown",
   "id": "5ace2ade-db25-47ca-8507-f3a8c1f3c888",
   "metadata": {},
   "source": [
    "## calc_broadcast_length"
   ]
  },
  {
   "cell_type": "code",
   "execution_count": 14,
   "id": "0c9d3744-c910-4b38-a19d-fec93f1d6feb",
   "metadata": {},
   "outputs": [
    {
     "name": "stdout",
     "output_type": "stream",
     "text": [
      "Before broadcast\n",
      "[5]\n",
      "[-10]\n",
      "[0, 0, 0, 0, 0, 0, 0, 0, 0, 0, 0, 0, 0, 0, 0, 0, 0, 0, 0, 0]\n",
      "After broadcast\n",
      "[5, 5, 5, 5, 5, 5, 5, 5, 5, 5, 5, 5, 5, 5, 5, 5, 5, 5, 5, 5]\n",
      "[-10, -10, -10, -10, -10, -10, -10, -10, -10, -10, -10, -10, -10, -10, -10, -10, -10, -10, -10, -10]\n",
      "[0, 0, 0, 0, 0, 0, 0, 0, 0, 0, 0, 0, 0, 0, 0, 0, 0, 0, 0, 0]\n",
      "[1]\n"
     ]
    }
   ],
   "source": [
    "print(\"Before broadcast\")\n",
    "b_arr1 = fc.array('i', 1, 5)\n",
    "b_arr2 = fc.array('i', 1, -10)\n",
    "b_arr3 = fc.array('i', 20)\n",
    "print(b_arr1.tolist())\n",
    "print(b_arr2.tolist())\n",
    "print(b_arr3.tolist())\n",
    "\n",
    "broadcast_len = fc.calc_broadcast_length([b_arr1, b_arr2, b_arr3])\n",
    "\n",
    "print(\"After broadcast\")\n",
    "b_arr1 = b_arr1.broadcast_value(broadcast_len)[0]\n",
    "b_arr2 = b_arr2.broadcast_value(broadcast_len)[0]\n",
    "print(b_arr1.tolist())\n",
    "print(b_arr2.tolist())\n",
    "print(b_arr3.tolist())\n",
    "\n",
    "broadcast_len2 = fc.calc_broadcast_length([5.0])\n",
    "print(broadcast_len2.tolist())"
   ]
  },
  {
   "cell_type": "markdown",
   "id": "4ec92dfa-7b8d-4ab1-82ad-aca5ac7e3792",
   "metadata": {},
   "source": [
    "# Array Arithmetic"
   ]
  },
  {
   "cell_type": "code",
   "execution_count": 15,
   "id": "a62dcb4b-6941-4182-a1b7-02937abb202f",
   "metadata": {},
   "outputs": [],
   "source": [
    "import operator\n",
    "\n",
    "arr1_int = fc.array('i', 5, -5)\n",
    "arr2_int = fc.array('i', 5, 10)\n",
    "arr3_int = fc.array('i', [1, 1, 0, 0, 0, 1, 5, 6, -10])\n",
    "arr4_int = fc.array('i', [1, 0, 0, 1, 9, 10, 1000, -18, -10])\n",
    "\n",
    "arr1_float = fc.array('f', 5, -5.5)\n",
    "arr2_float = fc.array('f', 5, 10.0)\n",
    "arr3_float = fc.array('f', 5, 0)\n",
    "arr4_float = fc.array('f', 5, 1)\n",
    "\n",
    "arr1_bytearray = fc.array('b32', 5)\n",
    "arr2_bytearray = fc.array('b32', 5)\n",
    "arr3_bytearray = fc.array('b32', 5)\n",
    "arr4_bytearray = fc.array('b32', 5)\n",
    "\n",
    "test_arr = [(arr1_int, arr2_int, arr3_int, arr4_int), \n",
    "            (arr1_float, arr2_float, arr3_float, arr4_float), \n",
    "            (arr1_bytearray, arr2_bytearray, arr3_bytearray, arr4_bytearray)]\n",
    "\n",
    "def run_func(f, *args):\n",
    "    for t in test_arr:\n",
    "        try:\n",
    "            arr_type = type(t[0])\n",
    "            print(f\"Type: {arr_type}\")\n",
    "            inputs = operator.itemgetter(*args)(t)\n",
    "            if isinstance(inputs, tuple):\n",
    "                if not isinstance(inputs[0], fl.BytearrayArrayIdentifier):\n",
    "                    print(f\"Inputs: {[i.tolist() for i in inputs]}\")\n",
    "                out_arr = f(*inputs)\n",
    "            else:\n",
    "                if not isinstance(inputs, fl.BytearrayArrayIdentifier):\n",
    "                    print(f\"Input: {inputs.tolist()}\")\n",
    "                out_arr = f(inputs)\n",
    "            \n",
    "            if not isinstance(out_arr, fl.BytearrayArrayIdentifier):\n",
    "                if isinstance(out_arr, list):\n",
    "                    print(f\"Outputs: {[o.tolist() for o in out_arr]}\\n\")\n",
    "                else:\n",
    "                    print(f\"Output: {out_arr.tolist()}\\n\")\n",
    "            else:\n",
    "                print(\"Can't print contents of BytearrayArrayIdentifier\\n\")\n",
    "        except (TypeError, AttributeError):\n",
    "            print(f\"operation not supported for {arr_type}\\n\")"
   ]
  },
  {
   "cell_type": "markdown",
   "id": "8b245d42-3cf9-4a5a-93ea-6e5320af5fa6",
   "metadata": {},
   "source": [
    "## Boolean"
   ]
  },
  {
   "cell_type": "markdown",
   "id": "681388e5-ec8a-4d7c-9599-fdf65b89dc98",
   "metadata": {},
   "source": [
    "### Equal To"
   ]
  },
  {
   "cell_type": "code",
   "execution_count": 16,
   "id": "9e067416-e210-4579-91d0-c3e104bd7c4c",
   "metadata": {},
   "outputs": [
    {
     "name": "stdout",
     "output_type": "stream",
     "text": [
      "Type: <class 'ftillite.client.IntArrayIdentifier'>\n",
      "Inputs: [[-5, -5, -5, -5, -5], [10, 10, 10, 10, 10]]\n",
      "Output: [0, 0, 0, 0, 0]\n",
      "\n",
      "Type: <class 'ftillite.client.FloatArrayIdentifier'>\n",
      "Inputs: [[-5.5, -5.5, -5.5, -5.5, -5.5], [10.0, 10.0, 10.0, 10.0, 10.0]]\n",
      "Output: [0, 0, 0, 0, 0]\n",
      "\n",
      "Type: <class 'ftillite.client.BytearrayArrayIdentifier'>\n",
      "Output: [1, 1, 1, 1, 1]\n",
      "\n"
     ]
    }
   ],
   "source": [
    "run_func(lambda x, y: x == y, 0, 1)"
   ]
  },
  {
   "cell_type": "markdown",
   "id": "b04be7b6-a102-4355-88dc-a035129d29a1",
   "metadata": {},
   "source": [
    "### Not Equal To"
   ]
  },
  {
   "cell_type": "code",
   "execution_count": 17,
   "id": "caa1b1bd-6814-48b5-bd0f-99bb54c665d6",
   "metadata": {},
   "outputs": [
    {
     "name": "stdout",
     "output_type": "stream",
     "text": [
      "Type: <class 'ftillite.client.IntArrayIdentifier'>\n",
      "Inputs: [[-5, -5, -5, -5, -5], [10, 10, 10, 10, 10]]\n",
      "Output: [1, 1, 1, 1, 1]\n",
      "\n",
      "Type: <class 'ftillite.client.FloatArrayIdentifier'>\n",
      "Inputs: [[-5.5, -5.5, -5.5, -5.5, -5.5], [10.0, 10.0, 10.0, 10.0, 10.0]]\n",
      "Output: [1, 1, 1, 1, 1]\n",
      "\n",
      "Type: <class 'ftillite.client.BytearrayArrayIdentifier'>\n",
      "Output: [0, 0, 0, 0, 0]\n",
      "\n"
     ]
    }
   ],
   "source": [
    "run_func(lambda x, y: x != y, 0, 1)"
   ]
  },
  {
   "cell_type": "markdown",
   "id": "2a199da8-f9a7-444a-bcef-060ade71267b",
   "metadata": {},
   "source": [
    "### Greater than / Greater than or equal to"
   ]
  },
  {
   "cell_type": "code",
   "execution_count": 18,
   "id": "d93caa25-4063-4cd1-b21f-9c8557c9af69",
   "metadata": {},
   "outputs": [
    {
     "name": "stdout",
     "output_type": "stream",
     "text": [
      "Type: <class 'ftillite.client.IntArrayIdentifier'>\n",
      "Inputs: [[-5, -5, -5, -5, -5], [10, 10, 10, 10, 10]]\n",
      "Output: [0, 0, 0, 0, 0]\n",
      "\n",
      "Type: <class 'ftillite.client.FloatArrayIdentifier'>\n",
      "Inputs: [[-5.5, -5.5, -5.5, -5.5, -5.5], [10.0, 10.0, 10.0, 10.0, 10.0]]\n",
      "Output: [0, 0, 0, 0, 0]\n",
      "\n",
      "Type: <class 'ftillite.client.BytearrayArrayIdentifier'>\n",
      "operation not supported for <class 'ftillite.client.BytearrayArrayIdentifier'>\n",
      "\n",
      "Type: <class 'ftillite.client.IntArrayIdentifier'>\n",
      "Inputs: [[-5, -5, -5, -5, -5], [10, 10, 10, 10, 10]]\n",
      "Output: [0, 0, 0, 0, 0]\n",
      "\n",
      "Type: <class 'ftillite.client.FloatArrayIdentifier'>\n",
      "Inputs: [[-5.5, -5.5, -5.5, -5.5, -5.5], [10.0, 10.0, 10.0, 10.0, 10.0]]\n",
      "Output: [0, 0, 0, 0, 0]\n",
      "\n",
      "Type: <class 'ftillite.client.BytearrayArrayIdentifier'>\n",
      "operation not supported for <class 'ftillite.client.BytearrayArrayIdentifier'>\n",
      "\n"
     ]
    }
   ],
   "source": [
    "run_func(lambda x, y: x > y, 0, 1)\n",
    "run_func(lambda x, y: x >= y, 0, 1)"
   ]
  },
  {
   "cell_type": "markdown",
   "id": "239c2119-81a7-4f17-ba33-1ba5bffe2d63",
   "metadata": {},
   "source": [
    "### Less than / Less than or equal to"
   ]
  },
  {
   "cell_type": "code",
   "execution_count": 19,
   "id": "38516e42-9995-4e69-8ec7-2ea0248ff93c",
   "metadata": {},
   "outputs": [
    {
     "name": "stdout",
     "output_type": "stream",
     "text": [
      "Type: <class 'ftillite.client.IntArrayIdentifier'>\n",
      "Inputs: [[-5, -5, -5, -5, -5], [10, 10, 10, 10, 10]]\n",
      "Output: [1, 1, 1, 1, 1]\n",
      "\n",
      "Type: <class 'ftillite.client.FloatArrayIdentifier'>\n",
      "Inputs: [[-5.5, -5.5, -5.5, -5.5, -5.5], [10.0, 10.0, 10.0, 10.0, 10.0]]\n",
      "Output: [1, 1, 1, 1, 1]\n",
      "\n",
      "Type: <class 'ftillite.client.BytearrayArrayIdentifier'>\n",
      "operation not supported for <class 'ftillite.client.BytearrayArrayIdentifier'>\n",
      "\n",
      "Type: <class 'ftillite.client.IntArrayIdentifier'>\n",
      "Inputs: [[-5, -5, -5, -5, -5], [10, 10, 10, 10, 10]]\n",
      "Output: [1, 1, 1, 1, 1]\n",
      "\n",
      "Type: <class 'ftillite.client.FloatArrayIdentifier'>\n",
      "Inputs: [[-5.5, -5.5, -5.5, -5.5, -5.5], [10.0, 10.0, 10.0, 10.0, 10.0]]\n",
      "Output: [1, 1, 1, 1, 1]\n",
      "\n",
      "Type: <class 'ftillite.client.BytearrayArrayIdentifier'>\n",
      "operation not supported for <class 'ftillite.client.BytearrayArrayIdentifier'>\n",
      "\n"
     ]
    }
   ],
   "source": [
    "run_func(lambda x, y: x < y, 0, 1)\n",
    "run_func(lambda x, y: x <= y, 0, 1)"
   ]
  },
  {
   "cell_type": "markdown",
   "id": "5341844d-ec7f-4c75-b68e-22d916cb0f1d",
   "metadata": {},
   "source": [
    "## Sign"
   ]
  },
  {
   "cell_type": "markdown",
   "id": "555ca488-d690-4871-89d1-0ef5c034b64a",
   "metadata": {},
   "source": [
    "### ABS"
   ]
  },
  {
   "cell_type": "code",
   "execution_count": 20,
   "id": "0150e8db-6f56-476e-aa3b-13229ef82211",
   "metadata": {},
   "outputs": [
    {
     "name": "stdout",
     "output_type": "stream",
     "text": [
      "Type: <class 'ftillite.client.IntArrayIdentifier'>\n",
      "Input: [-5, -5, -5, -5, -5]\n",
      "Output: [5, 5, 5, 5, 5]\n",
      "\n",
      "Type: <class 'ftillite.client.FloatArrayIdentifier'>\n",
      "Input: [-5.5, -5.5, -5.5, -5.5, -5.5]\n",
      "Output: [5.5, 5.5, 5.5, 5.5, 5.5]\n",
      "\n",
      "Type: <class 'ftillite.client.BytearrayArrayIdentifier'>\n",
      "operation not supported for <class 'ftillite.client.BytearrayArrayIdentifier'>\n",
      "\n"
     ]
    }
   ],
   "source": [
    "run_func(lambda x: abs(x), 0)"
   ]
  },
  {
   "cell_type": "markdown",
   "id": "40f91444-cde4-48f1-81c8-c95340592a5d",
   "metadata": {},
   "source": [
    "## Rounding"
   ]
  },
  {
   "cell_type": "code",
   "execution_count": 21,
   "id": "fb73ac1f-1d11-4382-9bc7-c433ef9db256",
   "metadata": {},
   "outputs": [],
   "source": [
    "import math"
   ]
  },
  {
   "cell_type": "markdown",
   "id": "51f5eb6e-3954-429d-abc0-690e25001665",
   "metadata": {},
   "source": [
    "### Floor"
   ]
  },
  {
   "cell_type": "code",
   "execution_count": 22,
   "id": "b268e560-b876-4f92-bfb4-f4cbf77fdec5",
   "metadata": {},
   "outputs": [
    {
     "name": "stdout",
     "output_type": "stream",
     "text": [
      "Type: <class 'ftillite.client.IntArrayIdentifier'>\n",
      "Input: [-5, -5, -5, -5, -5]\n",
      "operation not supported for <class 'ftillite.client.IntArrayIdentifier'>\n",
      "\n",
      "Type: <class 'ftillite.client.FloatArrayIdentifier'>\n",
      "Input: [-5.5, -5.5, -5.5, -5.5, -5.5]\n",
      "Output: [-6, -6, -6, -6, -6]\n",
      "\n",
      "Type: <class 'ftillite.client.BytearrayArrayIdentifier'>\n",
      "operation not supported for <class 'ftillite.client.BytearrayArrayIdentifier'>\n",
      "\n"
     ]
    }
   ],
   "source": [
    "run_func(lambda x: math.floor(x), 0)"
   ]
  },
  {
   "cell_type": "markdown",
   "id": "a75063bb-d91b-4062-a431-938b7a5f358c",
   "metadata": {},
   "source": [
    "### Ceil"
   ]
  },
  {
   "cell_type": "code",
   "execution_count": 23,
   "id": "6b84ad96-2293-46f2-af09-34bd05e2d894",
   "metadata": {},
   "outputs": [
    {
     "name": "stdout",
     "output_type": "stream",
     "text": [
      "Type: <class 'ftillite.client.IntArrayIdentifier'>\n",
      "Input: [-5, -5, -5, -5, -5]\n",
      "operation not supported for <class 'ftillite.client.IntArrayIdentifier'>\n",
      "\n",
      "Type: <class 'ftillite.client.FloatArrayIdentifier'>\n",
      "Input: [-5.5, -5.5, -5.5, -5.5, -5.5]\n",
      "Output: [-5, -5, -5, -5, -5]\n",
      "\n",
      "Type: <class 'ftillite.client.BytearrayArrayIdentifier'>\n",
      "operation not supported for <class 'ftillite.client.BytearrayArrayIdentifier'>\n",
      "\n"
     ]
    }
   ],
   "source": [
    "run_func(lambda x: math.ceil(x), 0)"
   ]
  },
  {
   "cell_type": "markdown",
   "id": "69e6517f-8c0c-4886-b51d-9af941b8d348",
   "metadata": {},
   "source": [
    "### Round"
   ]
  },
  {
   "cell_type": "code",
   "execution_count": 24,
   "id": "42988adb-6f1d-4262-9099-fa68c8cae069",
   "metadata": {},
   "outputs": [
    {
     "name": "stdout",
     "output_type": "stream",
     "text": [
      "Type: <class 'ftillite.client.IntArrayIdentifier'>\n",
      "Input: [-5, -5, -5, -5, -5]\n",
      "operation not supported for <class 'ftillite.client.IntArrayIdentifier'>\n",
      "\n",
      "Type: <class 'ftillite.client.FloatArrayIdentifier'>\n",
      "Input: [-5.5, -5.5, -5.5, -5.5, -5.5]\n",
      "Output: [-5, -5, -5, -5, -5]\n",
      "\n",
      "Type: <class 'ftillite.client.BytearrayArrayIdentifier'>\n",
      "operation not supported for <class 'ftillite.client.BytearrayArrayIdentifier'>\n",
      "\n"
     ]
    }
   ],
   "source": [
    "run_func(lambda x: round(x), 0)"
   ]
  },
  {
   "cell_type": "markdown",
   "id": "c20ab980-95a0-472a-98b6-574bd99987af",
   "metadata": {},
   "source": [
    "## Basic Arithmetic"
   ]
  },
  {
   "cell_type": "markdown",
   "id": "2e933f64-06bc-49ae-9a5c-78ff01fe803b",
   "metadata": {},
   "source": [
    "### Add"
   ]
  },
  {
   "cell_type": "code",
   "execution_count": 25,
   "id": "9bbf18e9-39d7-4ea8-9420-656b9162e6fc",
   "metadata": {},
   "outputs": [
    {
     "name": "stdout",
     "output_type": "stream",
     "text": [
      "Type: <class 'ftillite.client.IntArrayIdentifier'>\n",
      "Inputs: [[-5, -5, -5, -5, -5], [10, 10, 10, 10, 10]]\n",
      "Output: [5, 5, 5, 5, 5]\n",
      "\n",
      "Type: <class 'ftillite.client.FloatArrayIdentifier'>\n",
      "Inputs: [[-5.5, -5.5, -5.5, -5.5, -5.5], [10.0, 10.0, 10.0, 10.0, 10.0]]\n",
      "Output: [4.5, 4.5, 4.5, 4.5, 4.5]\n",
      "\n",
      "Type: <class 'ftillite.client.BytearrayArrayIdentifier'>\n",
      "operation not supported for <class 'ftillite.client.BytearrayArrayIdentifier'>\n",
      "\n"
     ]
    }
   ],
   "source": [
    "run_func(lambda x, y: x + y, 0, 1)"
   ]
  },
  {
   "cell_type": "markdown",
   "id": "49b49f63-6be4-45b8-94d2-bd79484e9db1",
   "metadata": {},
   "source": [
    "### Subtract "
   ]
  },
  {
   "cell_type": "code",
   "execution_count": 26,
   "id": "f0fdc860-c399-4531-964f-42134f2c16bb",
   "metadata": {},
   "outputs": [
    {
     "name": "stdout",
     "output_type": "stream",
     "text": [
      "Type: <class 'ftillite.client.IntArrayIdentifier'>\n",
      "Inputs: [[-5, -5, -5, -5, -5], [10, 10, 10, 10, 10]]\n",
      "Output: [-15, -15, -15, -15, -15]\n",
      "\n",
      "Type: <class 'ftillite.client.FloatArrayIdentifier'>\n",
      "Inputs: [[-5.5, -5.5, -5.5, -5.5, -5.5], [10.0, 10.0, 10.0, 10.0, 10.0]]\n",
      "Output: [-15.5, -15.5, -15.5, -15.5, -15.5]\n",
      "\n",
      "Type: <class 'ftillite.client.BytearrayArrayIdentifier'>\n",
      "operation not supported for <class 'ftillite.client.BytearrayArrayIdentifier'>\n",
      "\n"
     ]
    }
   ],
   "source": [
    "run_func(lambda x, y: x - y, 0, 1)"
   ]
  },
  {
   "cell_type": "markdown",
   "id": "1773a3fa-3000-4093-859f-3c9cdfc20ae5",
   "metadata": {},
   "source": [
    "### Multiple"
   ]
  },
  {
   "cell_type": "code",
   "execution_count": 27,
   "id": "36581cb0-c58e-4939-adc4-4beecf4f1fbc",
   "metadata": {},
   "outputs": [
    {
     "name": "stdout",
     "output_type": "stream",
     "text": [
      "Type: <class 'ftillite.client.IntArrayIdentifier'>\n",
      "Inputs: [[-5, -5, -5, -5, -5], [10, 10, 10, 10, 10]]\n",
      "Output: [-50, -50, -50, -50, -50]\n",
      "\n",
      "Type: <class 'ftillite.client.FloatArrayIdentifier'>\n",
      "Inputs: [[-5.5, -5.5, -5.5, -5.5, -5.5], [10.0, 10.0, 10.0, 10.0, 10.0]]\n",
      "Output: [-55.0, -55.0, -55.0, -55.0, -55.0]\n",
      "\n",
      "Type: <class 'ftillite.client.BytearrayArrayIdentifier'>\n",
      "operation not supported for <class 'ftillite.client.BytearrayArrayIdentifier'>\n",
      "\n"
     ]
    }
   ],
   "source": [
    "run_func(lambda x, y: x * y, 0, 1)"
   ]
  },
  {
   "cell_type": "markdown",
   "id": "4c7f9f1e-e058-417f-a4f4-0d922a8ffbd0",
   "metadata": {},
   "source": [
    "### Floordiv"
   ]
  },
  {
   "cell_type": "code",
   "execution_count": 28,
   "id": "753e9eb3-2ebc-4895-a4c5-4dad48bfd16f",
   "metadata": {},
   "outputs": [
    {
     "name": "stdout",
     "output_type": "stream",
     "text": [
      "Type: <class 'ftillite.client.IntArrayIdentifier'>\n",
      "Inputs: [[-5, -5, -5, -5, -5], [10, 10, 10, 10, 10]]\n",
      "Output: [0, 0, 0, 0, 0]\n",
      "\n",
      "Type: <class 'ftillite.client.FloatArrayIdentifier'>\n",
      "Inputs: [[-5.5, -5.5, -5.5, -5.5, -5.5], [10.0, 10.0, 10.0, 10.0, 10.0]]\n",
      "operation not supported for <class 'ftillite.client.FloatArrayIdentifier'>\n",
      "\n",
      "Type: <class 'ftillite.client.BytearrayArrayIdentifier'>\n",
      "operation not supported for <class 'ftillite.client.BytearrayArrayIdentifier'>\n",
      "\n",
      "Type: <class 'ftillite.client.IntArrayIdentifier'>\n",
      "Inputs: [[-5, -5, -5, -5, -5], [10, 10, 10, 10, 10]]\n",
      "Can't divide by zero\n"
     ]
    }
   ],
   "source": [
    "run_func(lambda x, y: x // y, 0, 1)\n",
    "\n",
    "try:\n",
    "    run_func(lambda x, y: x // 0, 0, 1)\n",
    "except RuntimeError as e:\n",
    "    print(\"Can't divide by zero\")"
   ]
  },
  {
   "cell_type": "markdown",
   "id": "7903b0dd-c4a4-44c5-885b-dd7128e9e1e9",
   "metadata": {},
   "source": [
    "### Truediv"
   ]
  },
  {
   "cell_type": "code",
   "execution_count": 29,
   "id": "73b4b743-cc11-4a9b-928d-055a8e9c4c1f",
   "metadata": {},
   "outputs": [
    {
     "name": "stdout",
     "output_type": "stream",
     "text": [
      "Type: <class 'ftillite.client.IntArrayIdentifier'>\n",
      "Inputs: [[-5, -5, -5, -5, -5], [10, 10, 10, 10, 10]]\n",
      "Output: [0, 0, 0, 0, 0]\n",
      "\n",
      "Type: <class 'ftillite.client.FloatArrayIdentifier'>\n",
      "Inputs: [[-5.5, -5.5, -5.5, -5.5, -5.5], [10.0, 10.0, 10.0, 10.0, 10.0]]\n",
      "Output: [-0.55, -0.55, -0.55, -0.55, -0.55]\n",
      "\n",
      "Type: <class 'ftillite.client.BytearrayArrayIdentifier'>\n",
      "operation not supported for <class 'ftillite.client.BytearrayArrayIdentifier'>\n",
      "\n",
      "Type: <class 'ftillite.client.IntArrayIdentifier'>\n",
      "Inputs: [[-5, -5, -5, -5, -5], [10, 10, 10, 10, 10]]\n",
      "Can't divide by zero\n"
     ]
    }
   ],
   "source": [
    "run_func(lambda x, y: x / y, 0, 1)\n",
    "\n",
    "try:\n",
    "    run_func(lambda x, y: x / 0, 0, 1)\n",
    "except RuntimeError as e:\n",
    "    print(\"Can't divide by zero\")"
   ]
  },
  {
   "cell_type": "markdown",
   "id": "16c383d3-3e5c-4dce-9f2c-ab6289ee36ec",
   "metadata": {},
   "source": [
    "### Mod"
   ]
  },
  {
   "cell_type": "code",
   "execution_count": 30,
   "id": "061c33e2-c9f7-404f-ac67-80748409da47",
   "metadata": {},
   "outputs": [
    {
     "name": "stdout",
     "output_type": "stream",
     "text": [
      "Type: <class 'ftillite.client.IntArrayIdentifier'>\n",
      "Inputs: [[-5, -5, -5, -5, -5], [10, 10, 10, 10, 10]]\n",
      "Output: [-5, -5, -5, -5, -5]\n",
      "\n",
      "Type: <class 'ftillite.client.FloatArrayIdentifier'>\n",
      "Inputs: [[-5.5, -5.5, -5.5, -5.5, -5.5], [10.0, 10.0, 10.0, 10.0, 10.0]]\n",
      "operation not supported for <class 'ftillite.client.FloatArrayIdentifier'>\n",
      "\n",
      "Type: <class 'ftillite.client.BytearrayArrayIdentifier'>\n",
      "operation not supported for <class 'ftillite.client.BytearrayArrayIdentifier'>\n",
      "\n"
     ]
    }
   ],
   "source": [
    "run_func(lambda x, y: x % y, 0, 1)"
   ]
  },
  {
   "cell_type": "markdown",
   "id": "6cdc528c-3d53-4783-a2c7-f48755893cfc",
   "metadata": {},
   "source": [
    "### Divmod"
   ]
  },
  {
   "cell_type": "code",
   "execution_count": 31,
   "id": "b07ab12a-69d1-47d1-8d58-0f054de5a8e7",
   "metadata": {},
   "outputs": [
    {
     "name": "stdout",
     "output_type": "stream",
     "text": [
      "Type: <class 'ftillite.client.IntArrayIdentifier'>\n",
      "Inputs: [[-5, -5, -5, -5, -5], [10, 10, 10, 10, 10]]\n",
      "Outputs: [[0, 0, 0, 0, 0], [-5, -5, -5, -5, -5]]\n",
      "\n",
      "Type: <class 'ftillite.client.FloatArrayIdentifier'>\n",
      "Inputs: [[-5.5, -5.5, -5.5, -5.5, -5.5], [10.0, 10.0, 10.0, 10.0, 10.0]]\n",
      "operation not supported for <class 'ftillite.client.FloatArrayIdentifier'>\n",
      "\n",
      "Type: <class 'ftillite.client.BytearrayArrayIdentifier'>\n",
      "operation not supported for <class 'ftillite.client.BytearrayArrayIdentifier'>\n",
      "\n"
     ]
    }
   ],
   "source": [
    "run_func(lambda x, y: divmod(x, y), 0, 1)"
   ]
  },
  {
   "cell_type": "markdown",
   "id": "ed8703bb-bbb3-4718-be45-4c2cc196425e",
   "metadata": {},
   "source": [
    "### Pow"
   ]
  },
  {
   "cell_type": "code",
   "execution_count": 32,
   "id": "bfef0e39-b4ad-4a48-8c99-f8b6c8f50899",
   "metadata": {},
   "outputs": [
    {
     "name": "stdout",
     "output_type": "stream",
     "text": [
      "Type: <class 'ftillite.client.IntArrayIdentifier'>\n",
      "Inputs: [[-5, -5, -5, -5, -5], [10, 10, 10, 10, 10]]\n",
      "Output: [9765625, 9765625, 9765625, 9765625, 9765625]\n",
      "\n",
      "Type: <class 'ftillite.client.FloatArrayIdentifier'>\n",
      "Inputs: [[-5.5, -5.5, -5.5, -5.5, -5.5], [10.0, 10.0, 10.0, 10.0, 10.0]]\n",
      "operation not supported for <class 'ftillite.client.FloatArrayIdentifier'>\n",
      "\n",
      "Type: <class 'ftillite.client.BytearrayArrayIdentifier'>\n",
      "operation not supported for <class 'ftillite.client.BytearrayArrayIdentifier'>\n",
      "\n"
     ]
    }
   ],
   "source": [
    "run_func(lambda x, y: pow(x, y), 0, 1)"
   ]
  },
  {
   "cell_type": "markdown",
   "id": "2e2ccac1-757d-44c4-aa5e-69ffef31a726",
   "metadata": {},
   "source": [
    "### Sin"
   ]
  },
  {
   "cell_type": "code",
   "execution_count": 33,
   "id": "be74845f-0813-4943-8b93-20bf74022d19",
   "metadata": {},
   "outputs": [
    {
     "name": "stdout",
     "output_type": "stream",
     "text": [
      "Type: <class 'ftillite.client.IntArrayIdentifier'>\n",
      "Input: [-5, -5, -5, -5, -5]\n",
      "operation not supported for <class 'ftillite.client.IntArrayIdentifier'>\n",
      "\n",
      "Type: <class 'ftillite.client.FloatArrayIdentifier'>\n",
      "Input: [-5.5, -5.5, -5.5, -5.5, -5.5]\n",
      "Output: [0.7055403255703919, 0.7055403255703919, 0.7055403255703919, 0.7055403255703919, 0.7055403255703919]\n",
      "\n",
      "Type: <class 'ftillite.client.BytearrayArrayIdentifier'>\n",
      "operation not supported for <class 'ftillite.client.BytearrayArrayIdentifier'>\n",
      "\n"
     ]
    }
   ],
   "source": [
    "run_func(lambda x: fl.sin(x), 0)"
   ]
  },
  {
   "cell_type": "markdown",
   "id": "7218af3d-7a67-4fd2-a778-88d5f3dd0bb0",
   "metadata": {},
   "source": [
    "### Cos"
   ]
  },
  {
   "cell_type": "code",
   "execution_count": 34,
   "id": "69eab618-03a7-42cb-9c36-f9e4c997832c",
   "metadata": {},
   "outputs": [
    {
     "name": "stdout",
     "output_type": "stream",
     "text": [
      "Type: <class 'ftillite.client.IntArrayIdentifier'>\n",
      "Input: [-5, -5, -5, -5, -5]\n",
      "operation not supported for <class 'ftillite.client.IntArrayIdentifier'>\n",
      "\n",
      "Type: <class 'ftillite.client.FloatArrayIdentifier'>\n",
      "Input: [-5.5, -5.5, -5.5, -5.5, -5.5]\n",
      "Output: [0.70866977429126, 0.70866977429126, 0.70866977429126, 0.70866977429126, 0.70866977429126]\n",
      "\n",
      "Type: <class 'ftillite.client.BytearrayArrayIdentifier'>\n",
      "operation not supported for <class 'ftillite.client.BytearrayArrayIdentifier'>\n",
      "\n"
     ]
    }
   ],
   "source": [
    "run_func(lambda x: fl.cos(x), 0)"
   ]
  },
  {
   "cell_type": "markdown",
   "id": "a43de8d1-a35b-468b-803d-593a18c91292",
   "metadata": {
    "tags": []
   },
   "source": [
    "### Exp"
   ]
  },
  {
   "cell_type": "code",
   "execution_count": 35,
   "id": "79d3ad02-3931-466a-92cb-d90c7684ec89",
   "metadata": {},
   "outputs": [
    {
     "name": "stdout",
     "output_type": "stream",
     "text": [
      "Type: <class 'ftillite.client.IntArrayIdentifier'>\n",
      "Input: [-5, -5, -5, -5, -5]\n",
      "operation not supported for <class 'ftillite.client.IntArrayIdentifier'>\n",
      "\n",
      "Type: <class 'ftillite.client.FloatArrayIdentifier'>\n",
      "Input: [-5.5, -5.5, -5.5, -5.5, -5.5]\n",
      "Output: [0.004086771438464067, 0.004086771438464067, 0.004086771438464067, 0.004086771438464067, 0.004086771438464067]\n",
      "\n",
      "Type: <class 'ftillite.client.BytearrayArrayIdentifier'>\n",
      "operation not supported for <class 'ftillite.client.BytearrayArrayIdentifier'>\n",
      "\n"
     ]
    }
   ],
   "source": [
    "run_func(lambda x: fl.exp(x), 0)"
   ]
  },
  {
   "cell_type": "markdown",
   "id": "8a1e0ecb-87c6-4ce6-908b-721f29232245",
   "metadata": {},
   "source": [
    "### Log"
   ]
  },
  {
   "cell_type": "code",
   "execution_count": 36,
   "id": "4bd52b1a-467e-4039-a6ed-0d6c77436e53",
   "metadata": {},
   "outputs": [
    {
     "name": "stdout",
     "output_type": "stream",
     "text": [
      "Type: <class 'ftillite.client.IntArrayIdentifier'>\n",
      "Input: [10, 10, 10, 10, 10]\n",
      "operation not supported for <class 'ftillite.client.IntArrayIdentifier'>\n",
      "\n",
      "Type: <class 'ftillite.client.FloatArrayIdentifier'>\n",
      "Input: [10.0, 10.0, 10.0, 10.0, 10.0]\n",
      "Output: [2.302585092994046, 2.302585092994046, 2.302585092994046, 2.302585092994046, 2.302585092994046]\n",
      "\n",
      "Type: <class 'ftillite.client.BytearrayArrayIdentifier'>\n",
      "operation not supported for <class 'ftillite.client.BytearrayArrayIdentifier'>\n",
      "\n"
     ]
    }
   ],
   "source": [
    "run_func(lambda x: fl.log(x), 1)"
   ]
  },
  {
   "cell_type": "markdown",
   "id": "4e4cad9d-df98-4281-87f7-ed25beddb979",
   "metadata": {},
   "source": [
    "### Nearest"
   ]
  },
  {
   "cell_type": "code",
   "execution_count": 37,
   "id": "b1177567-d317-40ad-80cb-d90f4be18306",
   "metadata": {},
   "outputs": [
    {
     "name": "stdout",
     "output_type": "stream",
     "text": [
      "Type: <class 'ftillite.client.IntArrayIdentifier'>\n",
      "Input: [10, 10, 10, 10, 10]\n",
      "Output: [10.0, 10.0, 10.0, 10.0, 10.0]\n",
      "\n",
      "Type: <class 'ftillite.client.FloatArrayIdentifier'>\n",
      "Input: [10.0, 10.0, 10.0, 10.0, 10.0]\n",
      "operation not supported for <class 'ftillite.client.FloatArrayIdentifier'>\n",
      "\n",
      "Type: <class 'ftillite.client.BytearrayArrayIdentifier'>\n",
      "operation not supported for <class 'ftillite.client.BytearrayArrayIdentifier'>\n",
      "\n"
     ]
    }
   ],
   "source": [
    "run_func(lambda x: fl.nearest(x), 1)"
   ]
  },
  {
   "cell_type": "markdown",
   "id": "d9a2e4be-0c0b-438b-a030-45ffbf6cd295",
   "metadata": {},
   "source": [
    "## Bitwise Operations"
   ]
  },
  {
   "cell_type": "markdown",
   "id": "f813643c-a2c7-4c10-8081-8cbf69727e48",
   "metadata": {},
   "source": [
    "### Lshift"
   ]
  },
  {
   "cell_type": "code",
   "execution_count": 38,
   "id": "6f6d9655-d2f1-405b-85a4-ec00f8abbc55",
   "metadata": {},
   "outputs": [
    {
     "name": "stdout",
     "output_type": "stream",
     "text": [
      "Type: <class 'ftillite.client.IntArrayIdentifier'>\n",
      "Input: [10, 10, 10, 10, 10]\n",
      "Output: [40, 40, 40, 40, 40]\n",
      "\n",
      "Type: <class 'ftillite.client.FloatArrayIdentifier'>\n",
      "Input: [10.0, 10.0, 10.0, 10.0, 10.0]\n",
      "operation not supported for <class 'ftillite.client.FloatArrayIdentifier'>\n",
      "\n",
      "Type: <class 'ftillite.client.BytearrayArrayIdentifier'>\n",
      "ERROR: ANZ reporting error: command execution error 'command_calc_broadcast_length': operation not supported\n",
      "NAB reporting error: command execution error 'command_calc_broadcast_length': operation not supported\n",
      "AUSTRAC reporting error: command execution error 'command_calc_broadcast_length': operation not supported\n",
      "CBA reporting error: command execution error 'command_calc_broadcast_length': operation not supported\n",
      "WPC reporting error: command execution error 'command_calc_broadcast_length': operation not supported\n"
     ]
    }
   ],
   "source": [
    "try:\n",
    "    run_func(lambda x: x << 2, 1)\n",
    "except RuntimeError as ex:\n",
    "    print(ex)"
   ]
  },
  {
   "cell_type": "markdown",
   "id": "4f78b028-c1f8-4cae-8025-ba7ae9a870c4",
   "metadata": {},
   "source": [
    "### Rshift"
   ]
  },
  {
   "cell_type": "code",
   "execution_count": 39,
   "id": "f93ece38-5a06-486f-8372-4227445a6c57",
   "metadata": {},
   "outputs": [
    {
     "name": "stdout",
     "output_type": "stream",
     "text": [
      "Type: <class 'ftillite.client.IntArrayIdentifier'>\n",
      "Input: [10, 10, 10, 10, 10]\n",
      "Output: [2, 2, 2, 2, 2]\n",
      "\n",
      "Type: <class 'ftillite.client.FloatArrayIdentifier'>\n",
      "Input: [10.0, 10.0, 10.0, 10.0, 10.0]\n",
      "operation not supported for <class 'ftillite.client.FloatArrayIdentifier'>\n",
      "\n",
      "Type: <class 'ftillite.client.BytearrayArrayIdentifier'>\n",
      "ERROR: AUSTRAC reporting error: command execution error 'command_calc_broadcast_length': operation not supported\n",
      "CBA reporting error: command execution error 'command_calc_broadcast_length': operation not supported\n",
      "ANZ reporting error: command execution error 'command_calc_broadcast_length': operation not supported\n",
      "NAB reporting error: command execution error 'command_calc_broadcast_length': operation not supported\n",
      "WPC reporting error: command execution error 'command_calc_broadcast_length': operation not supported\n"
     ]
    }
   ],
   "source": [
    "try:\n",
    "    run_func(lambda x: x >> 2, 1)\n",
    "except RuntimeError as ex:\n",
    "    print(ex)"
   ]
  },
  {
   "cell_type": "markdown",
   "id": "5d5f5001-15f3-411e-8fa0-f16e01434e01",
   "metadata": {},
   "source": [
    "### AND"
   ]
  },
  {
   "cell_type": "code",
   "execution_count": 40,
   "id": "26ae92c5-c3c1-4d45-8a2c-f58126956673",
   "metadata": {},
   "outputs": [
    {
     "name": "stdout",
     "output_type": "stream",
     "text": [
      "Type: <class 'ftillite.client.IntArrayIdentifier'>\n",
      "Inputs: [[1, 1, 0, 0, 0, 1, 5, 6, -10], [1, 0, 0, 1, 9, 10, 1000, -18, -10]]\n",
      "Output: [1, 0, 0, 0, 0, 0, 0, 6, -10]\n",
      "\n",
      "Type: <class 'ftillite.client.FloatArrayIdentifier'>\n",
      "Inputs: [[0.0, 0.0, 0.0, 0.0, 0.0], [1.0, 1.0, 1.0, 1.0, 1.0]]\n",
      "operation not supported for <class 'ftillite.client.FloatArrayIdentifier'>\n",
      "\n",
      "Type: <class 'ftillite.client.BytearrayArrayIdentifier'>\n",
      "Can't print contents of BytearrayArrayIdentifier\n",
      "\n"
     ]
    }
   ],
   "source": [
    "try:\n",
    "    run_func(lambda x, y: x & y, 2, 3)\n",
    "except RuntimeError as ex:\n",
    "    print(ex)"
   ]
  },
  {
   "cell_type": "markdown",
   "id": "94f52ff9-2e3b-46ac-b244-45c52238aa09",
   "metadata": {},
   "source": [
    "### OR"
   ]
  },
  {
   "cell_type": "code",
   "execution_count": 41,
   "id": "b7b27295-0b27-41d0-9b89-2e7eb3ba916a",
   "metadata": {},
   "outputs": [
    {
     "name": "stdout",
     "output_type": "stream",
     "text": [
      "Type: <class 'ftillite.client.IntArrayIdentifier'>\n",
      "Inputs: [[1, 1, 0, 0, 0, 1, 5, 6, -10], [1, 0, 0, 1, 9, 10, 1000, -18, -10]]\n",
      "Output: [1, 1, 0, 1, 9, 11, 1005, -18, -10]\n",
      "\n",
      "Type: <class 'ftillite.client.FloatArrayIdentifier'>\n",
      "Inputs: [[0.0, 0.0, 0.0, 0.0, 0.0], [1.0, 1.0, 1.0, 1.0, 1.0]]\n",
      "operation not supported for <class 'ftillite.client.FloatArrayIdentifier'>\n",
      "\n",
      "Type: <class 'ftillite.client.BytearrayArrayIdentifier'>\n",
      "Can't print contents of BytearrayArrayIdentifier\n",
      "\n"
     ]
    }
   ],
   "source": [
    "try:\n",
    "    run_func(lambda x, y: x | y, 2, 3)\n",
    "except RuntimeError as ex:\n",
    "    print(ex)"
   ]
  },
  {
   "cell_type": "markdown",
   "id": "9f95ffad-cc8d-46e3-9c20-6ec6a19469da",
   "metadata": {},
   "source": [
    "### XOR"
   ]
  },
  {
   "cell_type": "code",
   "execution_count": 42,
   "id": "0bbf5e15-7152-4387-9856-2965022e2426",
   "metadata": {},
   "outputs": [
    {
     "name": "stdout",
     "output_type": "stream",
     "text": [
      "Type: <class 'ftillite.client.IntArrayIdentifier'>\n",
      "Inputs: [[1, 1, 0, 0, 0, 1, 5, 6, -10], [1, 0, 0, 1, 9, 10, 1000, -18, -10]]\n",
      "Output: [0, 1, 0, 1, 9, 11, 1005, -24, 0]\n",
      "\n",
      "Type: <class 'ftillite.client.FloatArrayIdentifier'>\n",
      "Inputs: [[0.0, 0.0, 0.0, 0.0, 0.0], [1.0, 1.0, 1.0, 1.0, 1.0]]\n",
      "operation not supported for <class 'ftillite.client.FloatArrayIdentifier'>\n",
      "\n",
      "Type: <class 'ftillite.client.BytearrayArrayIdentifier'>\n",
      "Can't print contents of BytearrayArrayIdentifier\n",
      "\n"
     ]
    }
   ],
   "source": [
    "try:\n",
    "    run_func(lambda x, y: x ^ y, 2, 3)\n",
    "except RuntimeError as ex:\n",
    "    print(ex)"
   ]
  },
  {
   "cell_type": "markdown",
   "id": "163d2303-a770-4610-9313-39e1b4a97dd7",
   "metadata": {},
   "source": [
    "### INVERT"
   ]
  },
  {
   "cell_type": "code",
   "execution_count": 43,
   "id": "fb6a7c12-163c-438c-934d-6f4c76dca659",
   "metadata": {},
   "outputs": [
    {
     "name": "stdout",
     "output_type": "stream",
     "text": [
      "Type: <class 'ftillite.client.IntArrayIdentifier'>\n",
      "Input: [1, 1, 0, 0, 0, 1, 5, 6, -10]\n",
      "Output: [-2, -2, -1, -1, -1, -2, -6, -7, 9]\n",
      "\n",
      "Type: <class 'ftillite.client.FloatArrayIdentifier'>\n",
      "Input: [0.0, 0.0, 0.0, 0.0, 0.0]\n",
      "operation not supported for <class 'ftillite.client.FloatArrayIdentifier'>\n",
      "\n",
      "Type: <class 'ftillite.client.BytearrayArrayIdentifier'>\n",
      "Can't print contents of BytearrayArrayIdentifier\n",
      "\n"
     ]
    }
   ],
   "source": [
    "try:\n",
    "    run_func(lambda x: ~x, 2)\n",
    "except RuntimeError as ex:\n",
    "    print(ex)"
   ]
  },
  {
   "cell_type": "markdown",
   "id": "4f1991ae-bab9-4592-973f-5cef5d1d1599",
   "metadata": {},
   "source": [
    "### Transmit"
   ]
  },
  {
   "cell_type": "code",
   "execution_count": 44,
   "id": "1c876ce9-4916-49e3-93d4-64034c20db66",
   "metadata": {},
   "outputs": [
    {
     "data": {
      "text/plain": [
       "<ftillite.client.IntArrayIdentifier at 0x7efcebf48700>"
      ]
     },
     "execution_count": 44,
     "metadata": {},
     "output_type": "execute_result"
    }
   ],
   "source": [
    " with fl.on(fc.CoordinatorID):\n",
    "#    local_x = fc.array('i', 1, 1)\n",
    "    bytearray_arr1 = fc.array('b32', 10) # Only length provided\n",
    "\n",
    "# x = fl.transmit({i : local_x for i in fc.scope()})[fc.CoordinatorID]\n",
    "y = fl.transmit({i : bytearray_arr1 for i in fc.scope()})[fc.CoordinatorID]\n",
    "\n",
    "\n",
    "# x.len()\n",
    "y.len()\n",
    "#fl._equal_int(x, fc.array('i', 1, 1))"
   ]
  }
 ],
 "metadata": {
  "kernelspec": {
   "display_name": "Python 3 (ipykernel)",
   "language": "python",
   "name": "python3"
  },
  "language_info": {
   "codemirror_mode": {
    "name": "ipython",
    "version": 3
   },
   "file_extension": ".py",
   "mimetype": "text/x-python",
   "name": "python",
   "nbconvert_exporter": "python",
   "pygments_lexer": "ipython3",
   "version": "3.8.13"
  },
  "vscode": {
   "interpreter": {
    "hash": "e2cfbe7c08efb8aea00a54eb20c5e96637358f0edba2f2ed70d5ea4b11f27cbe"
   }
  }
 },
 "nbformat": 4,
 "nbformat_minor": 5
}
