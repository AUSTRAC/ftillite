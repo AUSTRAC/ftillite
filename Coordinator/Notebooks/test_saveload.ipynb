{
 "cells": [
  {
   "cell_type": "markdown",
   "id": "e45a7a9c-fec4-4aab-9080-f784da359506",
   "metadata": {
    "tags": []
   },
   "source": [
    "# Test save and load"
   ]
  },
  {
   "cell_type": "code",
   "execution_count": null,
   "id": "d58ad093-9172-44d2-969a-8c235f69387d",
   "metadata": {},
   "outputs": [],
   "source": [
    "import ftillite as fl\n",
    "import logging\n",
    "from datetime import datetime\n",
    "from logging.handlers import RotatingFileHandler\n",
    "import sys \n",
    "\n",
    "app_name = \"test_cases\"\n",
    "def create_logger(x, app_name):\n",
    "    logger = logging.getLogger(x)\n",
    "    logger.setLevel(logging.INFO)\n",
    "    # formatter = logging.Formatter('%(asctime)s,%(msecs)d %(nameZ)s %(levelname)s %(message)s')\n",
    "    formatter = logging.Formatter('%(asctime)s %(levelname)s: %(message)s')\n",
    "    fn = f'logs/LOG-{x}-{app_name}-{ datetime.now().strftime(\"%Y_%m_%d-%H:%M:%S:%f\")}'\n",
    "    \n",
    "    file_handler = RotatingFileHandler(fn, maxBytes=200000000, backupCount=5)\n",
    "    file_handler.setFormatter(formatter)\n",
    "    file_handler.setLevel(logging.INFO)\n",
    "    logger.addHandler(file_handler)\n",
    "    \n",
    "    stdout_handler = logging.StreamHandler(sys.stdout)\n",
    "    stdout_handler.setLevel(logging.WARNING)\n",
    "    stdout_handler.setFormatter(formatter)\n",
    "    logger.addHandler(stdout_handler)\n",
    "    return logger\n",
    "\n",
    "logger_all = create_logger('ALL', app_name)\n",
    "logger_client = create_logger('CLIENT', app_name)\n",
    "logger_compute_mgr = create_logger('COMPUTE MGR', app_name)\n",
    "logger_segment_client = create_logger('SEGMENT CLIENT', app_name)\n",
    "\n",
    "conf = fl.FTILConf().set_app_name(\"nonverbose\") \\\n",
    "                    .set_rabbitmq_conf({'user': 'ftillite', 'password': 'ftillite', 'host': 'localhost'})\\\n",
    "                    .set_client_logger(logger_client)\\\n",
    "                    .set_compute_manager_logger(logger_compute_mgr)\\\n",
    "                    .set_segment_client_logger(logger_segment_client)\n",
    "                    # .set_all_loggers(logger_all)\n",
    "    \n",
    "\n",
    "fc = fl.FTILContext(conf = conf)"
   ]
  },
  {
   "cell_type": "code",
   "execution_count": 2,
   "id": "5f301c2d-6a08-4b49-9707-62a3886ca1cf",
   "metadata": {},
   "outputs": [
    {
     "name": "stdout",
     "output_type": "stream",
     "text": [
      "[2, 3, 4]\n",
      "[7, 7, 7, 7, 7, 7, 7, 7, 7, 7]\n"
     ]
    }
   ],
   "source": [
    "int_arr1 = fc.array('i', [2, 3, 4]) # Python list of values provided\n",
    "int_arr2 = fc.array('i', 10, 7)\n",
    "destination = \"testdest\"\n",
    "fc.save(int_arr1, destination)\n",
    "fc.save(int_arr2, destination)\n",
    "print(int_arr1.tolist())\n",
    "print(int_arr2.tolist())"
   ]
  },
  {
   "cell_type": "code",
   "execution_count": 3,
   "id": "5adddfe9-25ab-47bc-bd0d-78c1fe1153d1",
   "metadata": {},
   "outputs": [],
   "source": [
    "fc.delete(destination)"
   ]
  },
  {
   "cell_type": "code",
   "execution_count": null,
   "id": "3ef14b19-a9e1-499e-9d35-0f4a42333d1d",
   "metadata": {},
   "outputs": [],
   "source": [
    "destination = \"testdest\"\n",
    "# print(int_arr1.tolist())\n",
    "# print(int_arr2.tolist())\n",
    "fc.load(destination)\n",
    "print(int_arr1.tolist())\n",
    "print(int_arr2.tolist())"
   ]
  },
  {
   "cell_type": "code",
   "execution_count": 4,
   "id": "50ece8ec",
   "metadata": {},
   "outputs": [],
   "source": [
    "k1 = fc.arange(10)\n",
    "k2 = fc.array('f', 10, 1)\n",
    "keys1 = [k1, k2]\n",
    "\n",
    "listmap_1 = fc.listmap(keys1)\n",
    "fc.save(listmap_1, destination)"
   ]
  }
 ],
 "metadata": {
  "kernelspec": {
   "display_name": "Python 3 (ipykernel)",
   "language": "python",
   "name": "python3"
  },
  "language_info": {
   "codemirror_mode": {
    "name": "ipython",
    "version": 3
   },
   "file_extension": ".py",
   "mimetype": "text/x-python",
   "name": "python",
   "nbconvert_exporter": "python",
   "pygments_lexer": "ipython3",
   "version": "3.8.13"
  },
  "vscode": {
   "interpreter": {
    "hash": "e2cfbe7c08efb8aea00a54eb20c5e96637358f0edba2f2ed70d5ea4b11f27cbe"
   }
  }
 },
 "nbformat": 4,
 "nbformat_minor": 5
}
