{
 "cells": [
  {
   "cell_type": "markdown",
   "id": "d2443462-ac77-455f-a48a-fba9800d79b3",
   "metadata": {
    "tags": []
   },
   "source": [
    "# About\n",
    "\n",
    "This notebook provides a set of examples to showcase the currently implemented features of FTILLite."
   ]
  },
  {
   "cell_type": "markdown",
   "id": "a7f6afa5-f06a-4c08-a8cb-11149c9dfc3d",
   "metadata": {},
   "source": [
    "## Establish Connection to Peers"
   ]
  },
  {
   "cell_type": "code",
   "execution_count": 3,
   "id": "586ac4f6",
   "metadata": {},
   "outputs": [],
   "source": [
    "import ftillite as fl\n",
    "import logging\n",
    "from datetime import datetime\n",
    "from logging.handlers import RotatingFileHandler\n",
    "import sys \n",
    "\n",
    "app_name = \"test_cases\"\n",
    "def create_logger(x, app_name):\n",
    "    logger = logging.getLogger(x)\n",
    "    logger.setLevel(logging.INFO)\n",
    "    # formatter = logging.Formatter('%(asctime)s,%(msecs)d %(nameZ)s %(levelname)s %(message)s')\n",
    "    formatter = logging.Formatter('%(asctime)s %(levelname)s: %(message)s')\n",
    "    fn = f'logs/LOG-{x}-{app_name}-{ datetime.now().strftime(\"%Y_%m_%d-%H:%M:%S:%f\")}'\n",
    "    \n",
    "    file_handler = RotatingFileHandler(fn, maxBytes=200000000, backupCount=5)\n",
    "    file_handler.setFormatter(formatter)\n",
    "    file_handler.setLevel(logging.INFO)\n",
    "    logger.addHandler(file_handler)\n",
    "    \n",
    "    stdout_handler = logging.StreamHandler(sys.stdout)\n",
    "    stdout_handler.setLevel(logging.WARNING)\n",
    "    stdout_handler.setFormatter(formatter)\n",
    "    logger.addHandler(stdout_handler)\n",
    "    return logger\n",
    "\n",
    "logger_all = create_logger('ALL', app_name)\n",
    "logger_client = create_logger('CLIENT', app_name)\n",
    "logger_compute_mgr = create_logger('COMPUTE MGR', app_name)\n",
    "logger_segment_client = create_logger('SEGMENT CLIENT', app_name)\n",
    "\n",
    "conf = fl.FTILConf().set_app_name(\"nonverbose\") \\\n",
    "                    .set_rabbitmq_conf({'user': 'ftillite', 'password': 'ftillite', 'host': 'rabbitserver'})\\\n",
    "                    .set_client_logger(logger_client)\\\n",
    "                    .set_compute_manager_logger(logger_compute_mgr)\\\n",
    "                    .set_segment_client_logger(logger_segment_client)\n",
    "                    # .set_all_loggers(logger_all)\n",
    "    \n",
    "\n",
    "fc = fl.FTILContext(conf = conf)"
   ]
  },
  {
   "cell_type": "markdown",
   "id": "259ddb2b-d6aa-4922-a963-5ec5a1efb58e",
   "metadata": {},
   "source": [
    "## Array Creation"
   ]
  },
  {
   "cell_type": "code",
   "execution_count": null,
   "id": "51bd393b-f92f-460c-9463-8d9004362b03",
   "metadata": {},
   "outputs": [],
   "source": [
    "# # Int arrays\n",
    "int_arr1 = fc.array('i', 10) # Only length provided\n",
    "print(int_arr1.tolist())\n",
    "int_arr2 = fc.array('i', 10, 7) # Length and single value provided\n",
    "print(int_arr2.tolist())\n",
    "int_arr3 = fc.array('i', [2, 3, 4]) # Python list of values provided\n",
    "print(int_arr3.tolist())\n",
    "\n",
    "# # Float arrays\n",
    "float_arr1 = fc.array('f', 10) # Only length provided\n",
    "print(float_arr1.tolist())\n",
    "float_arr2 = fc.array('f', 10, 7.0) # Length and single value provided\n",
    "print(float_arr2.tolist())\n",
    "float_arr3 = fc.array('f', 10, 7) # Length and single value provided\n",
    "print(float_arr3.tolist())\n",
    "float_arr4 = fc.array('f', [2.6, 5.3, 6.7])  # Python list of values provided\n",
    "print(float_arr4.tolist())\n",
    "\n",
    "# Bytearray arrays\n",
    "bytearray_arr1 = fc.array('b32', 10) # Only length provided\n",
    "# print(bytearray_arr1.tolist()) - Not supported\n",
    "\n",
    "# Arange\n",
    "arange_arr1 = fc.arange(10)\n",
    "print(arange_arr1.tolist())"
   ]
  },
  {
   "cell_type": "markdown",
   "id": "b300c966-e0cf-4673-9dee-5090d7ff1cae",
   "metadata": {},
   "source": [
    "# Array Methods"
   ]
  },
  {
   "cell_type": "markdown",
   "id": "293ec8d1-9e05-4994-b1f4-ad7329539de3",
   "metadata": {},
   "source": [
    "## Index"
   ]
  },
  {
   "cell_type": "code",
   "execution_count": null,
   "id": "9b22ed2b-cea7-4580-bb9a-9b2404f744ed",
   "metadata": {},
   "outputs": [],
   "source": [
    "index_int_arr1 = fc.array('i', [0, 0, 200, 0, 300, 400, -10, -10000, 0, 0, 855])\n",
    "index_int_arr2 = index_int_arr1.index()\n",
    "print(list(index_int_arr2))\n",
    "\n",
    "index_float_arr1 = fc.array('f', [0, 1.555, 0, 0, 0, 0, 42.5, -34.2, 300, 400, -10, -10000, 0, 0, 855])\n",
    "index_float_arr2 = index_float_arr1.index()\n",
    "print(list(index_float_arr2))"
   ]
  },
  {
   "cell_type": "markdown",
   "id": "8e4e304a-258d-475d-952a-cd7ea100b1df",
   "metadata": {},
   "source": [
    "## Get Length"
   ]
  },
  {
   "cell_type": "code",
   "execution_count": null,
   "id": "1a5af760-24c4-4e71-a8f4-8ae130a0cead",
   "metadata": {},
   "outputs": [],
   "source": [
    "# Length Operators\n",
    "# Type 1 - len variable in golang\n",
    "print(int_arr1.len().tolist())\n",
    "print(float_arr1.len().tolist())\n",
    "\n",
    "# Type 2 - int on Python\n",
    "print(len(int_arr1))\n",
    "print(len(float_arr1))"
   ]
  },
  {
   "cell_type": "markdown",
   "id": "07934170-6046-414e-a3e9-04455cc3fe39",
   "metadata": {},
   "source": [
    "## Set Length"
   ]
  },
  {
   "cell_type": "code",
   "execution_count": null,
   "id": "e2b64d90-0e89-4839-8f4a-715c5da8fb00",
   "metadata": {},
   "outputs": [],
   "source": [
    "int_arr3.set_length(10)\n",
    "print(int_arr3.tolist())\n",
    "\n",
    "float_arr3.set_length(2)\n",
    "print(float_arr3.tolist())"
   ]
  },
  {
   "cell_type": "markdown",
   "id": "1cbf373a-2c8c-4b60-969b-236e25d90620",
   "metadata": {},
   "source": [
    "## Get Item"
   ]
  },
  {
   "cell_type": "code",
   "execution_count": null,
   "id": "3c59e0d6-65f1-4a5c-858a-2663a90efd5a",
   "metadata": {},
   "outputs": [],
   "source": [
    "# Int\n",
    "int_getitem = int_arr3[0]\n",
    "print(int_getitem.tolist())\n",
    "\n",
    "int_getitem = int_arr3[0:2]\n",
    "print(int_getitem.tolist())\n",
    "\n",
    "int_getitem = int_arr3[-1]\n",
    "print(int_getitem.tolist())\n",
    "\n",
    "int_getitem = int_arr3[-3:-1]\n",
    "print(int_getitem.tolist())\n",
    "\n",
    "int_getitem = int_arr3[-2:]\n",
    "print(int_getitem.tolist())\n",
    "\n",
    "int_getitem = int_arr3[:]\n",
    "print(int_getitem.tolist())\n",
    "\n",
    "# Float\n",
    "float_getitem = float_arr3[1]\n",
    "print(float_getitem.tolist())\n",
    "\n",
    "float_getitem = float_arr3[0:2]\n",
    "print(float_getitem.tolist())\n",
    "\n",
    "float_getitem = float_arr3[-1]\n",
    "print(float_getitem.tolist())\n",
    "\n",
    "float_getitem = int_arr3[-3:-1]\n",
    "print(float_getitem.tolist())\n",
    "\n",
    "float_getitem = int_arr3[-2:]\n",
    "print(float_getitem.tolist())\n",
    "\n",
    "float_getitem = int_arr3[:]\n",
    "print(float_getitem.tolist())\n",
    "\n",
    "# bytearray\n",
    "bytearray_getitem1 = bytearray_arr1[0:3]"
   ]
  },
  {
   "cell_type": "markdown",
   "id": "efea175f-3746-45f5-b439-81c9c3cb56f2",
   "metadata": {},
   "source": [
    "## Lookup"
   ]
  },
  {
   "cell_type": "code",
   "execution_count": null,
   "id": "d328aff3-e89b-4818-a01e-97a14993f324",
   "metadata": {},
   "outputs": [],
   "source": [
    "# Int\n",
    "int_lookupitem1 = int_arr3.lookup(0, 1)\n",
    "print(int_lookupitem1.tolist())\n",
    "\n",
    "int_lookupitem2 = int_arr3.lookup(10, 100)\n",
    "print(int_lookupitem2.tolist())\n",
    "\n",
    "int_lookupitem3 = int_arr3.lookup(slice(0,2))\n",
    "print(int_lookupitem3.tolist())\n",
    "\n",
    "# Float\n",
    "float_lookupitem1 = float_arr3.lookup(0, 1.0)\n",
    "print(float_lookupitem1.tolist())\n",
    "\n",
    "float_lookupitem2 = float_arr3.lookup(10, 100.0)\n",
    "print(float_lookupitem2.tolist())"
   ]
  },
  {
   "cell_type": "markdown",
   "id": "5da9b85e-95d9-48c5-93c0-729ef939f81d",
   "metadata": {},
   "source": [
    "## Set Item"
   ]
  },
  {
   "cell_type": "code",
   "execution_count": null,
   "id": "6b3108fc-6d54-47e8-9243-0a541793f110",
   "metadata": {},
   "outputs": [],
   "source": [
    "# Int\n",
    "int_setitem = fc.array(\"i\", 10, 2)\n",
    "print(int_setitem.tolist())\n",
    "\n",
    "int_setitem[1] = 6\n",
    "print(int_setitem.tolist())\n",
    "\n",
    "int_setitem[7:10] = 3\n",
    "print(int_setitem.tolist())\n",
    "\n",
    "int_setitem[5:] = 56\n",
    "print(int_setitem.tolist())\n",
    "\n",
    "int_setitem[-1] = -17\n",
    "print(int_setitem.tolist())\n",
    "\n",
    "int_setitem2 = fc.array(\"i\", 5, 100)\n",
    "int_setitem[1:6] = int_setitem2\n",
    "print(int_setitem.tolist())\n",
    "\n",
    "# Float\n",
    "float_setitem = fc.array(\"f\", 10, 2.0)\n",
    "print(float_setitem.tolist())\n",
    "\n",
    "float_setitem[1] = 6.0\n",
    "print(float_setitem.tolist())\n",
    "\n",
    "float_setitem[7:10] = 3.0\n",
    "print(float_setitem.tolist())\n",
    "\n",
    "float_setitem2 = fc.array(\"f\", 5, 20.444)\n",
    "float_setitem[1:6] = float_setitem2\n",
    "print(float_setitem.tolist())\n",
    "\n",
    "# bytearray - not tested yet"
   ]
  },
  {
   "cell_type": "code",
   "execution_count": null,
   "id": "1d7b0880-498b-4284-8d98-3fb96dd70831",
   "metadata": {},
   "outputs": [],
   "source": [
    "int_setitem = fc.array(\"i\", 10, 2)\n",
    "print(int_setitem.tolist())\n",
    "\n",
    "int_setitem[:] = [-17, 2, 3, 4, 5]\n",
    "print(int_setitem.tolist())"
   ]
  },
  {
   "cell_type": "markdown",
   "id": "29aefe23-45d0-4281-a3ff-a19b2c50e1a0",
   "metadata": {},
   "source": [
    "## Reducesum"
   ]
  },
  {
   "cell_type": "code",
   "execution_count": null,
   "id": "17f77682-8f1c-415d-b301-fa75dafb012d",
   "metadata": {},
   "outputs": [],
   "source": [
    "int_reducesum1 = fc.array(\"i\", 10, 2)\n",
    "print(int_reducesum1.tolist())\n",
    "int_reducesum1.reduce_sum([0,1,1,2,3], [5,6,10,2,3])\n",
    "print(int_reducesum1.tolist())\n",
    "\n",
    "float_reducesum1 = fc.array(\"f\", 10, 2.5)\n",
    "print(float_reducesum1.tolist())\n",
    "float_reducesum1.reduce_sum([0,1,1,2,3], [5.0,6.5,10.111,2.2,3.333])\n",
    "print(float_reducesum1.tolist())"
   ]
  },
  {
   "cell_type": "markdown",
   "id": "3f7db394-8284-45f8-8b4d-b839d8d0121f",
   "metadata": {},
   "source": [
    "## Randomarray"
   ]
  },
  {
   "cell_type": "code",
   "execution_count": null,
   "id": "aeeb3e1f-722f-4f86-80fc-7aaaf78896b2",
   "metadata": {},
   "outputs": [],
   "source": [
    "int_rand1 = fc.randomarray('i', 5, 1, 5)\n",
    "print(int_rand1.tolist())\n",
    "\n",
    "float_rand1 = fc.randomarray('f', 5, 1, 5)\n",
    "print(float_rand1.tolist())\n",
    "\n",
    "ed25519int_rand1 = fc.randomarray('I', 5)"
   ]
  },
  {
   "cell_type": "markdown",
   "id": "bf9c5bc7-8c4e-45ef-9652-51b7ef3a4ce8",
   "metadata": {},
   "source": [
    "## Randomperm"
   ]
  },
  {
   "cell_type": "code",
   "execution_count": null,
   "id": "ee4bea69-1ae6-4949-9f69-e515b69f7e4e",
   "metadata": {},
   "outputs": [],
   "source": [
    "rand_perm1 = fc.randomperm(5)\n",
    "print(rand_perm1.tolist())\n",
    "\n",
    "try:\n",
    "    rand_perm2 = fc.randomperm(5, n=2)\n",
    "except Exception as ex:\n",
    "    print(\"expected failure\")\n",
    "    print(ex)\n",
    "    \n",
    "rand_perm3 = fc.randomperm(5, 10)\n",
    "print(rand_perm3.tolist())"
   ]
  },
  {
   "cell_type": "markdown",
   "id": "4cb91745-bcdc-478f-8660-ee0706ed5e93",
   "metadata": {},
   "source": [
    "## astype"
   ]
  },
  {
   "cell_type": "code",
   "execution_count": null,
   "id": "96042cc7-1d72-4320-a839-dbe947cc5ba8",
   "metadata": {},
   "outputs": [],
   "source": [
    "float_arr_astype = int_arr3.astype('f')\n",
    "print(float_arr_astype.tolist())\n",
    "\n",
    "bytearray_arr_astype = int_arr3.astype('b32')\n",
    "bytearray_arr_astype"
   ]
  },
  {
   "cell_type": "markdown",
   "id": "aca4cc82-e608-44eb-96db-a932d0e74ee3",
   "metadata": {},
   "source": [
    "## Delete Array"
   ]
  },
  {
   "cell_type": "code",
   "execution_count": null,
   "id": "402c3130-c01c-4271-8b85-a1890044a4ed",
   "metadata": {},
   "outputs": [],
   "source": [
    "del int_arr1\n",
    "del float_arr1\n",
    "del bytearray_arr1"
   ]
  },
  {
   "cell_type": "markdown",
   "id": "25f43750-43a2-4749-bbbc-aa305c125de8",
   "metadata": {},
   "source": [
    "## Aux DB Read\n",
    "\n",
    "Note that you will need to have followed the steps in the README under the section **Populate the database locally**.\n",
    "\n",
    "Also note that the query doesn't run on the coordinator node and so tolist() won't yield any results."
   ]
  },
  {
   "cell_type": "code",
   "execution_count": null,
   "id": "f7b5aeef",
   "metadata": {},
   "outputs": [],
   "source": [
    "auxdb_read_res = fc.auxdb_read(\"SELECT origin_id, dest_id, amount, datetime FROM transactions limit 5\", \"iifb32\")\n",
    "print(f\"origin_id data: {auxdb_read_res[0]}\")\n",
    "print(f\"dest_id data: {auxdb_read_res[1]}\")\n",
    "print(f\"amount data: {auxdb_read_res[2]}\")\n",
    "print(f\"datetime data: {auxdb_read_res[3]}\")\n",
    "\n",
    "auxdb_read_res = fc.auxdb_read(\"SELECT origin_id, dest_id, amount, datetime FROM transactions limit 5\", \"i i f b32\")\n",
    "print(f\"origin_id data: {auxdb_read_res[0]}\")\n",
    "print(f\"dest_id data: {auxdb_read_res[1]}\")\n",
    "print(f\"amount data: {auxdb_read_res[2]}\")\n",
    "print(f\"datetime data: {auxdb_read_res[3]}\")"
   ]
  },
  {
   "cell_type": "markdown",
   "id": "e7aca2c8",
   "metadata": {},
   "source": [
    "## Save and Load"
   ]
  },
  {
   "cell_type": "code",
   "execution_count": 4,
   "id": "869b49b6",
   "metadata": {},
   "outputs": [
    {
     "name": "stderr",
     "output_type": "stream",
     "text": [
      "Exception ignored in: <function FtilliteBuiltin.__del__ at 0x7f23585df8b0>\n",
      "Traceback (most recent call last):\n",
      "  File \"/usr/local/lib/python3.8/site-packages/ftillite/client.py\", line 846, in __del__\n",
      "    self.context().del_handle(self.handle())\n",
      "  File \"/usr/local/lib/python3.8/site-packages/ftillite/client.py\", line 165, in del_handle\n",
      "    self._backend.del_handle(handle)\n",
      "  File \"/usr/local/lib/python3.8/site-packages/ftillite/compute_manager.py\", line 118, in del_handle\n",
      "    rcmap[i] = self.segment_clients[i].run_command(f\"del {handle}\")\n",
      "  File \"/usr/local/lib/python3.8/site-packages/ftillite/segment_client.py\", line 30, in run_command\n",
      "    self.channel = self.connection.channel()\n",
      "  File \"/usr/local/lib/python3.8/site-packages/pika/adapters/blocking_connection.py\", line 879, in channel\n",
      "    impl_channel = self._impl.channel(\n",
      "  File \"/usr/local/lib/python3.8/site-packages/pika/connection.py\", line 1262, in channel\n",
      "    self._channels[channel_number].open()\n",
      "  File \"/usr/local/lib/python3.8/site-packages/pika/channel.py\", line 769, in open\n",
      "    self._rpc(spec.Channel.Open(), self._on_openok, [spec.Channel.OpenOk])\n",
      "  File \"/usr/local/lib/python3.8/site-packages/pika/channel.py\", line 1358, in _rpc\n",
      "    self._send_method(method)\n",
      "  File \"/usr/local/lib/python3.8/site-packages/pika/channel.py\", line 1415, in _send_method\n",
      "    self.connection._send_method(self.channel_number, method, content)\n",
      "  File \"/usr/local/lib/python3.8/site-packages/pika/connection.py\", line 2257, in _send_method\n",
      "    self._send_frame(frame.Method(channel_number, method))\n",
      "  File \"/usr/local/lib/python3.8/site-packages/pika/connection.py\", line 2243, in _send_frame\n",
      "    self._output_marshaled_frames([marshaled_frame])\n",
      "  File \"/usr/local/lib/python3.8/site-packages/pika/connection.py\", line 2334, in _output_marshaled_frames\n",
      "    self._adapter_emit_data(marshaled_frame)\n",
      "  File \"/usr/local/lib/python3.8/site-packages/pika/adapters/base_connection.py\", line 386, in _adapter_emit_data\n",
      "    self._transport.write(data)\n",
      "  File \"/usr/local/lib/python3.8/site-packages/pika/adapters/utils/io_services_utils.py\", line 1030, in write\n",
      "    self._nbio.set_writer(self._sock.fileno(), self._on_socket_writable)\n",
      "  File \"/usr/local/lib/python3.8/site-packages/pika/adapters/utils/selector_ioloop_adapter.py\", line 321, in set_writer\n",
      "    self._loop.add_handler(fd, self._on_reader_writer_fd_events,\n",
      "  File \"/usr/local/lib/python3.8/site-packages/pika/adapters/select_connection.py\", line 522, in add_handler\n",
      "    self._poller.add_handler(fd, handler, events)\n",
      "  File \"/usr/local/lib/python3.8/site-packages/pika/adapters/select_connection.py\", line 707, in add_handler\n",
      "    self._register_fd(fileno, events)\n",
      "  File \"/usr/local/lib/python3.8/site-packages/pika/adapters/select_connection.py\", line 1228, in _register_fd\n",
      "    self._poll.register(fileno, events)\n",
      "ValueError: file descriptor cannot be a negative integer (-1)\n"
     ]
    },
    {
     "ename": "RuntimeError",
     "evalue": "ERROR: AUSTRAC reporting error: command execution error 'command_save': sql: converting argument $4 type: unsupported type func() time.Time, a func\nANZ reporting error: command execution error 'command_save': sql: converting argument $4 type: unsupported type func() time.Time, a func\nCBA reporting error: command execution error 'command_save': sql: converting argument $4 type: unsupported type func() time.Time, a func\nNAB reporting error: command execution error 'command_save': sql: converting argument $4 type: unsupported type func() time.Time, a func\nWPC reporting error: command execution error 'command_save': sql: converting argument $4 type: unsupported type func() time.Time, a func",
     "output_type": "error",
     "traceback": [
      "\u001b[0;31m---------------------------------------------------------------------------\u001b[0m",
      "\u001b[0;31mRuntimeError\u001b[0m                              Traceback (most recent call last)",
      "Input \u001b[0;32mIn [4]\u001b[0m, in \u001b[0;36m<cell line: 2>\u001b[0;34m()\u001b[0m\n\u001b[1;32m      1\u001b[0m int_arr \u001b[38;5;241m=\u001b[39m fc\u001b[38;5;241m.\u001b[39marray(\u001b[38;5;124m'\u001b[39m\u001b[38;5;124mi\u001b[39m\u001b[38;5;124m'\u001b[39m, [\u001b[38;5;241m2\u001b[39m, \u001b[38;5;241m3\u001b[39m, \u001b[38;5;241m4\u001b[39m]) \u001b[38;5;66;03m# Python list of values provided\u001b[39;00m\n\u001b[0;32m----> 2\u001b[0m \u001b[43mfc\u001b[49m\u001b[38;5;241;43m.\u001b[39;49m\u001b[43msave\u001b[49m\u001b[43m(\u001b[49m\u001b[43mint_arr\u001b[49m\u001b[43m,\u001b[49m\u001b[43m \u001b[49m\u001b[38;5;124;43m\"\u001b[39;49m\u001b[38;5;124;43mtest\u001b[39;49m\u001b[38;5;124;43m\"\u001b[39;49m\u001b[43m)\u001b[49m\n",
      "File \u001b[0;32m/usr/local/lib/python3.8/site-packages/ftillite/client.py:310\u001b[0m, in \u001b[0;36mFTILContext.save\u001b[0;34m(self, obj, destination)\u001b[0m\n\u001b[1;32m    308\u001b[0m \u001b[38;5;28mself\u001b[39m\u001b[38;5;241m.\u001b[39m_backend\u001b[38;5;241m.\u001b[39mstart_remote_save(destination)\n\u001b[1;32m    309\u001b[0m file \u001b[38;5;241m=\u001b[39m \u001b[38;5;28mopen\u001b[39m(\u001b[38;5;124mf\u001b[39m\u001b[38;5;124m\"\u001b[39m\u001b[38;5;124msavecompute_\u001b[39m\u001b[38;5;132;01m{\u001b[39;00mdestination\u001b[38;5;132;01m}\u001b[39;00m\u001b[38;5;124m.pickle\u001b[39m\u001b[38;5;124m\"\u001b[39m, \u001b[38;5;124m\"\u001b[39m\u001b[38;5;124mwb\u001b[39m\u001b[38;5;124m\"\u001b[39m)\n\u001b[0;32m--> 310\u001b[0m \u001b[43mpickle\u001b[49m\u001b[38;5;241;43m.\u001b[39;49m\u001b[43mdump\u001b[49m\u001b[43m(\u001b[49m\u001b[43mobj\u001b[49m\u001b[43m,\u001b[49m\u001b[43m \u001b[49m\u001b[43mfile\u001b[49m\u001b[43m)\u001b[49m\n\u001b[1;32m    311\u001b[0m file\u001b[38;5;241m.\u001b[39mclose()\n\u001b[1;32m    312\u001b[0m \u001b[38;5;28;01mdel\u001b[39;00m file\n",
      "File \u001b[0;32m/usr/local/lib/python3.8/site-packages/ftillite/client.py:855\u001b[0m, in \u001b[0;36mFtilliteBuiltin.__getstate__\u001b[0;34m(self)\u001b[0m\n\u001b[1;32m    853\u001b[0m state[\u001b[38;5;124m\"\u001b[39m\u001b[38;5;124m_handle\u001b[39m\u001b[38;5;124m\"\u001b[39m] \u001b[38;5;241m=\u001b[39m \u001b[38;5;28mself\u001b[39m\u001b[38;5;241m.\u001b[39mhandle()\n\u001b[1;32m    854\u001b[0m state[\u001b[38;5;124m\"\u001b[39m\u001b[38;5;124m_scope\u001b[39m\u001b[38;5;124m\"\u001b[39m] \u001b[38;5;241m=\u001b[39m [x\u001b[38;5;241m.\u001b[39mnum() \u001b[38;5;28;01mfor\u001b[39;00m x \u001b[38;5;129;01min\u001b[39;00m \u001b[38;5;28mself\u001b[39m\u001b[38;5;241m.\u001b[39m_scope]\n\u001b[0;32m--> 855\u001b[0m state[\u001b[38;5;124m\"\u001b[39m\u001b[38;5;124mregistry\u001b[39m\u001b[38;5;124m\"\u001b[39m] \u001b[38;5;241m=\u001b[39m \u001b[38;5;28;43mself\u001b[39;49m\u001b[38;5;241;43m.\u001b[39;49m\u001b[43mcontext\u001b[49m\u001b[43m(\u001b[49m\u001b[43m)\u001b[49m\u001b[38;5;241;43m.\u001b[39;49m\u001b[43m_save_handle\u001b[49m\u001b[43m(\u001b[49m\u001b[38;5;28;43mself\u001b[39;49m\u001b[38;5;241;43m.\u001b[39;49m\u001b[43mhandle\u001b[49m\u001b[43m(\u001b[49m\u001b[43m)\u001b[49m\u001b[43m)\u001b[49m\n\u001b[1;32m    856\u001b[0m \u001b[38;5;28;01mreturn\u001b[39;00m state\n",
      "File \u001b[0;32m/usr/local/lib/python3.8/site-packages/ftillite/client.py:159\u001b[0m, in \u001b[0;36mFTILContext._save_handle\u001b[0;34m(self, handle)\u001b[0m\n\u001b[1;32m    158\u001b[0m \u001b[38;5;28;01mdef\u001b[39;00m \u001b[38;5;21m_save_handle\u001b[39m(\u001b[38;5;28mself\u001b[39m, handle):\n\u001b[0;32m--> 159\u001b[0m     \u001b[38;5;28;01mreturn\u001b[39;00m \u001b[38;5;28;43mself\u001b[39;49m\u001b[38;5;241;43m.\u001b[39;49m\u001b[43m_backend\u001b[49m\u001b[38;5;241;43m.\u001b[39;49m\u001b[43msave_handle\u001b[49m\u001b[43m(\u001b[49m\u001b[43mhandle\u001b[49m\u001b[43m)\u001b[49m\n",
      "File \u001b[0;32m/usr/local/lib/python3.8/site-packages/ftillite/compute_manager.py:202\u001b[0m, in \u001b[0;36mComputeManager.save_handle\u001b[0;34m(self, handle)\u001b[0m\n\u001b[1;32m    200\u001b[0m \u001b[38;5;28;01mfor\u001b[39;00m s \u001b[38;5;129;01min\u001b[39;00m \u001b[38;5;28mself\u001b[39m\u001b[38;5;241m.\u001b[39mvariable_registry[handle][\u001b[38;5;241m2\u001b[39m]:\n\u001b[1;32m    201\u001b[0m     rcmap[s] \u001b[38;5;241m=\u001b[39m \u001b[38;5;28mself\u001b[39m\u001b[38;5;241m.\u001b[39msegment_clients[s]\u001b[38;5;241m.\u001b[39mrun_command(\u001b[38;5;124mf\u001b[39m\u001b[38;5;124m\"\u001b[39m\u001b[38;5;124msave \u001b[39m\u001b[38;5;132;01m{\u001b[39;00mhandle\u001b[38;5;132;01m}\u001b[39;00m\u001b[38;5;124m\"\u001b[39m)\n\u001b[0;32m--> 202\u001b[0m \u001b[38;5;28;43mself\u001b[39;49m\u001b[38;5;241;43m.\u001b[39;49m\u001b[43m_check_errors\u001b[49m\u001b[43m(\u001b[49m\u001b[43mrcmap\u001b[49m\u001b[43m,\u001b[49m\u001b[43m \u001b[49m\u001b[43m[\u001b[49m\u001b[43m]\u001b[49m\u001b[43m)\u001b[49m\n\u001b[1;32m    203\u001b[0m \u001b[38;5;28;01mreturn\u001b[39;00m \u001b[38;5;28mself\u001b[39m\u001b[38;5;241m.\u001b[39mvariable_registry[handle]\n",
      "File \u001b[0;32m/usr/local/lib/python3.8/site-packages/ftillite/compute_manager.py:283\u001b[0m, in \u001b[0;36mComputeManager._check_errors\u001b[0;34m(self, rcmap, new_handles)\u001b[0m\n\u001b[1;32m    281\u001b[0m \u001b[38;5;28;01mif\u001b[39;00m \u001b[38;5;28mlen\u001b[39m(errmsg) \u001b[38;5;241m!=\u001b[39m \u001b[38;5;241m0\u001b[39m:\n\u001b[1;32m    282\u001b[0m     \u001b[38;5;28mself\u001b[39m\u001b[38;5;241m.\u001b[39m_cleanup(errmsg, new_handles)\n\u001b[0;32m--> 283\u001b[0m     \u001b[38;5;28;01mraise\u001b[39;00m \u001b[38;5;167;01mRuntimeError\u001b[39;00m(\u001b[38;5;124m\"\u001b[39m\u001b[38;5;124mERROR: \u001b[39m\u001b[38;5;124m\"\u001b[39m\u001b[38;5;241m+\u001b[39m\u001b[38;5;124m\"\u001b[39m\u001b[38;5;130;01m\\n\u001b[39;00m\u001b[38;5;124m\"\u001b[39m\u001b[38;5;241m.\u001b[39mjoin(errmsg))\n\u001b[1;32m    284\u001b[0m \u001b[38;5;28;01mfor\u001b[39;00m s \u001b[38;5;129;01min\u001b[39;00m rcmap:\n\u001b[1;32m    285\u001b[0m     \u001b[38;5;28;01mif\u001b[39;00m rc \u001b[38;5;241m!=\u001b[39m rcmap[s]:\n",
      "\u001b[0;31mRuntimeError\u001b[0m: ERROR: AUSTRAC reporting error: command execution error 'command_save': sql: converting argument $4 type: unsupported type func() time.Time, a func\nANZ reporting error: command execution error 'command_save': sql: converting argument $4 type: unsupported type func() time.Time, a func\nCBA reporting error: command execution error 'command_save': sql: converting argument $4 type: unsupported type func() time.Time, a func\nNAB reporting error: command execution error 'command_save': sql: converting argument $4 type: unsupported type func() time.Time, a func\nWPC reporting error: command execution error 'command_save': sql: converting argument $4 type: unsupported type func() time.Time, a func"
     ]
    }
   ],
   "source": [
    "int_arr = fc.array('i', [2, 3, 4]) # Python list of values provided\n",
    "fc.save(int_arr, \"test\")"
   ]
  },
  {
   "cell_type": "markdown",
   "id": "5ace2ade-db25-47ca-8507-f3a8c1f3c888",
   "metadata": {},
   "source": [
    "## calc_broadcast_length"
   ]
  },
  {
   "cell_type": "code",
   "execution_count": null,
   "id": "0c9d3744-c910-4b38-a19d-fec93f1d6feb",
   "metadata": {},
   "outputs": [],
   "source": [
    "print(\"Before broadcast\")\n",
    "b_arr1 = fc.array('i', 1, 5)\n",
    "b_arr2 = fc.array('i', 1, -10)\n",
    "b_arr3 = fc.array('i', 20)\n",
    "print(b_arr1.tolist())\n",
    "print(b_arr2.tolist())\n",
    "print(b_arr3.tolist())\n",
    "\n",
    "broadcast_len = fc.calc_broadcast_length([b_arr1, b_arr2, b_arr3])\n",
    "\n",
    "print(\"After broadcast\")\n",
    "b_arr1 = b_arr1.broadcast_value(broadcast_len)[0]\n",
    "b_arr2 = b_arr2.broadcast_value(broadcast_len)[0]\n",
    "print(b_arr1.tolist())\n",
    "print(b_arr2.tolist())\n",
    "print(b_arr3.tolist())\n",
    "\n",
    "broadcast_len2 = fc.calc_broadcast_length([5.0])\n",
    "print(broadcast_len2.tolist())"
   ]
  },
  {
   "cell_type": "markdown",
   "id": "4ec92dfa-7b8d-4ab1-82ad-aca5ac7e3792",
   "metadata": {},
   "source": [
    "# Array Arithmetic"
   ]
  },
  {
   "cell_type": "code",
   "execution_count": null,
   "id": "a62dcb4b-6941-4182-a1b7-02937abb202f",
   "metadata": {},
   "outputs": [],
   "source": [
    "import operator\n",
    "\n",
    "arr1_int = fc.array('i', 5, -5)\n",
    "arr2_int = fc.array('i', 5, 10)\n",
    "arr3_int = fc.array('i', [1, 1, 0, 0, 0, 1, 5, 6, -10])\n",
    "arr4_int = fc.array('i', [1, 0, 0, 1, 9, 10, 1000, -18, -10])\n",
    "\n",
    "arr1_float = fc.array('f', 5, -5.5)\n",
    "arr2_float = fc.array('f', 5, 10.0)\n",
    "arr3_float = fc.array('f', 5, 0)\n",
    "arr4_float = fc.array('f', 5, 1)\n",
    "\n",
    "arr1_bytearray = fc.array('b32', 5)\n",
    "arr2_bytearray = fc.array('b32', 5)\n",
    "arr3_bytearray = fc.array('b32', 5)\n",
    "arr4_bytearray = fc.array('b32', 5)\n",
    "\n",
    "test_arr = [(arr1_int, arr2_int, arr3_int, arr4_int), \n",
    "            (arr1_float, arr2_float, arr3_float, arr4_float), \n",
    "            (arr1_bytearray, arr2_bytearray, arr3_bytearray, arr4_bytearray)]\n",
    "\n",
    "def run_func(f, fi, *args):\n",
    "    for t in test_arr:\n",
    "        try:\n",
    "            arr_type = type(t[0])\n",
    "            print(f\"Type: {arr_type}\")\n",
    "            inputs = operator.itemgetter(*args)(t)\n",
    "            out_inplace_arr = []\n",
    "            if isinstance(inputs, tuple):\n",
    "                if not isinstance(inputs[0], fl.BytearrayArrayIdentifier):\n",
    "                    print(f\"Inputs: {[i.tolist() for i in inputs]}\")\n",
    "                out_arr = f(*inputs)\n",
    "                if fi is not None:\n",
    "                    copied_inputs = []\n",
    "                    for i in inputs:\n",
    "                        copied_inputs.append(i.copy())\n",
    "                    copied_inputs = tuple(copied_inputs)\n",
    "                    out_inplace_arr = fi(*copied_inputs)\n",
    "            else:\n",
    "                if not isinstance(inputs, fl.BytearrayArrayIdentifier):\n",
    "                    print(f\"Input: {inputs.tolist()}\")\n",
    "                out_arr = f(inputs)\n",
    "                if fi is not None:\n",
    "                    if isinstance(inputs, fl.ArrayIdentifier):\n",
    "                        copied_inputs = inputs.copy()\n",
    "                    out_inplace_arr = fi(copied_inputs)\n",
    "            \n",
    "            if not isinstance(out_arr, fl.BytearrayArrayIdentifier):\n",
    "                if isinstance(out_arr, list):\n",
    "                    print(f\"Outputs: {[o.tolist() for o in out_arr]}\")\n",
    "                else:\n",
    "                    print(f\"Output: {out_arr.tolist()}\")\n",
    "                if (isinstance(out_inplace_arr, list) and out_inplace_arr != []) or not isinstance(out_inplace_arr, list):\n",
    "                    if isinstance(out_inplace_arr, list):\n",
    "                        print(f\"In-place Outputs: {[o.tolist() for o in out_inplace_arr]}\")\n",
    "                    else:\n",
    "                        print(f\"In-place Output: {out_inplace_arr.tolist()}\")\n",
    "            else:\n",
    "                print(\"Can't print contents of BytearrayArrayIdentifier\")\n",
    "                \n",
    "            print('\\n')\n",
    "        except (TypeError, AttributeError) as e:\n",
    "            print(e)\n",
    "            print(f\"operation not supported for {arr_type}\\n\")"
   ]
  },
  {
   "cell_type": "markdown",
   "id": "8b245d42-3cf9-4a5a-93ea-6e5320af5fa6",
   "metadata": {},
   "source": [
    "## Boolean"
   ]
  },
  {
   "cell_type": "markdown",
   "id": "681388e5-ec8a-4d7c-9599-fdf65b89dc98",
   "metadata": {},
   "source": [
    "### Equal To"
   ]
  },
  {
   "cell_type": "code",
   "execution_count": null,
   "id": "9e067416-e210-4579-91d0-c3e104bd7c4c",
   "metadata": {},
   "outputs": [],
   "source": [
    "run_func(lambda x, y: x == y, None, 0, 1)"
   ]
  },
  {
   "cell_type": "markdown",
   "id": "b04be7b6-a102-4355-88dc-a035129d29a1",
   "metadata": {},
   "source": [
    "### Not Equal To"
   ]
  },
  {
   "cell_type": "code",
   "execution_count": null,
   "id": "caa1b1bd-6814-48b5-bd0f-99bb54c665d6",
   "metadata": {},
   "outputs": [],
   "source": [
    "run_func(lambda x, y: x != y, None, 0, 1)"
   ]
  },
  {
   "cell_type": "markdown",
   "id": "2a199da8-f9a7-444a-bcef-060ade71267b",
   "metadata": {},
   "source": [
    "### Greater than / Greater than or equal to"
   ]
  },
  {
   "cell_type": "code",
   "execution_count": null,
   "id": "d93caa25-4063-4cd1-b21f-9c8557c9af69",
   "metadata": {},
   "outputs": [],
   "source": [
    "run_func(lambda x, y: x > y, None, 0, 1)\n",
    "run_func(lambda x, y: x >= y, None, 0, 1)"
   ]
  },
  {
   "cell_type": "markdown",
   "id": "239c2119-81a7-4f17-ba33-1ba5bffe2d63",
   "metadata": {},
   "source": [
    "### Less than / Less than or equal to"
   ]
  },
  {
   "cell_type": "code",
   "execution_count": null,
   "id": "38516e42-9995-4e69-8ec7-2ea0248ff93c",
   "metadata": {},
   "outputs": [],
   "source": [
    "run_func(lambda x, y: x < y, None, 0, 1)\n",
    "run_func(lambda x, y: x <= y, None, 0, 1)"
   ]
  },
  {
   "cell_type": "markdown",
   "id": "5341844d-ec7f-4c75-b68e-22d916cb0f1d",
   "metadata": {},
   "source": [
    "## Sign"
   ]
  },
  {
   "cell_type": "markdown",
   "id": "555ca488-d690-4871-89d1-0ef5c034b64a",
   "metadata": {},
   "source": [
    "### ABS"
   ]
  },
  {
   "cell_type": "code",
   "execution_count": null,
   "id": "0150e8db-6f56-476e-aa3b-13229ef82211",
   "metadata": {},
   "outputs": [],
   "source": [
    "run_func(lambda x: abs(x), None, 0)"
   ]
  },
  {
   "cell_type": "markdown",
   "id": "40f91444-cde4-48f1-81c8-c95340592a5d",
   "metadata": {},
   "source": [
    "## Rounding"
   ]
  },
  {
   "cell_type": "code",
   "execution_count": null,
   "id": "fb73ac1f-1d11-4382-9bc7-c433ef9db256",
   "metadata": {},
   "outputs": [],
   "source": [
    "import math"
   ]
  },
  {
   "cell_type": "markdown",
   "id": "51f5eb6e-3954-429d-abc0-690e25001665",
   "metadata": {},
   "source": [
    "### Floor"
   ]
  },
  {
   "cell_type": "code",
   "execution_count": null,
   "id": "b268e560-b876-4f92-bfb4-f4cbf77fdec5",
   "metadata": {},
   "outputs": [],
   "source": [
    "run_func(lambda x: math.floor(x), None, 0)"
   ]
  },
  {
   "cell_type": "markdown",
   "id": "a75063bb-d91b-4062-a431-938b7a5f358c",
   "metadata": {},
   "source": [
    "### Ceil"
   ]
  },
  {
   "cell_type": "code",
   "execution_count": null,
   "id": "6b84ad96-2293-46f2-af09-34bd05e2d894",
   "metadata": {},
   "outputs": [],
   "source": [
    "run_func(lambda x: math.ceil(x), None, 0)"
   ]
  },
  {
   "cell_type": "markdown",
   "id": "69e6517f-8c0c-4886-b51d-9af941b8d348",
   "metadata": {},
   "source": [
    "### Round"
   ]
  },
  {
   "cell_type": "code",
   "execution_count": null,
   "id": "42988adb-6f1d-4262-9099-fa68c8cae069",
   "metadata": {},
   "outputs": [],
   "source": [
    "run_func(lambda x: round(x), None, 0)"
   ]
  },
  {
   "cell_type": "markdown",
   "id": "c20ab980-95a0-472a-98b6-574bd99987af",
   "metadata": {},
   "source": [
    "## Basic Arithmetic"
   ]
  },
  {
   "cell_type": "markdown",
   "id": "2e933f64-06bc-49ae-9a5c-78ff01fe803b",
   "metadata": {},
   "source": [
    "### Add"
   ]
  },
  {
   "cell_type": "code",
   "execution_count": null,
   "id": "9bbf18e9-39d7-4ea8-9420-656b9162e6fc",
   "metadata": {},
   "outputs": [],
   "source": [
    "def iadd(x, y):\n",
    "    x += y\n",
    "    return x\n",
    "run_func(lambda x, y: x + y, iadd, 0, 1)"
   ]
  },
  {
   "cell_type": "markdown",
   "id": "49b49f63-6be4-45b8-94d2-bd79484e9db1",
   "metadata": {},
   "source": [
    "### Subtract "
   ]
  },
  {
   "cell_type": "code",
   "execution_count": null,
   "id": "f0fdc860-c399-4531-964f-42134f2c16bb",
   "metadata": {},
   "outputs": [],
   "source": [
    "def isub(x, y):\n",
    "    x -= y\n",
    "    return x\n",
    "run_func(lambda x, y: x - y, isub, 0, 1)"
   ]
  },
  {
   "cell_type": "markdown",
   "id": "1773a3fa-3000-4093-859f-3c9cdfc20ae5",
   "metadata": {},
   "source": [
    "### Multiple"
   ]
  },
  {
   "cell_type": "code",
   "execution_count": null,
   "id": "36581cb0-c58e-4939-adc4-4beecf4f1fbc",
   "metadata": {},
   "outputs": [],
   "source": [
    "def imul(x, y):\n",
    "    x *= y\n",
    "    return x\n",
    "run_func(lambda x, y: x * y, imul, 0, 1)"
   ]
  },
  {
   "cell_type": "markdown",
   "id": "4c7f9f1e-e058-417f-a4f4-0d922a8ffbd0",
   "metadata": {},
   "source": [
    "### Floordiv"
   ]
  },
  {
   "cell_type": "code",
   "execution_count": null,
   "id": "753e9eb3-2ebc-4895-a4c5-4dad48bfd16f",
   "metadata": {},
   "outputs": [],
   "source": [
    "def ifloordiv(x, y):\n",
    "    x //= y\n",
    "    return x\n",
    "\n",
    "run_func(lambda x, y: x // y, ifloordiv, 0, 1)\n",
    "\n",
    "try:\n",
    "    run_func(lambda x, y: x // 0, None, 0, 1)\n",
    "except RuntimeError as e:\n",
    "    print(\"Can't divide by zero\")"
   ]
  },
  {
   "cell_type": "markdown",
   "id": "7903b0dd-c4a4-44c5-885b-dd7128e9e1e9",
   "metadata": {},
   "source": [
    "### Truediv"
   ]
  },
  {
   "cell_type": "code",
   "execution_count": null,
   "id": "73b4b743-cc11-4a9b-928d-055a8e9c4c1f",
   "metadata": {},
   "outputs": [],
   "source": [
    "def itruediv(x, y):\n",
    "    x /= y\n",
    "    return x\n",
    "\n",
    "run_func(lambda x, y: x / y, itruediv, 0, 1)\n",
    "\n",
    "try:\n",
    "    run_func(lambda x, y: x / 0, None, 0, 1)\n",
    "except RuntimeError as e:\n",
    "    print(\"Can't divide by zero\")"
   ]
  },
  {
   "cell_type": "markdown",
   "id": "16c383d3-3e5c-4dce-9f2c-ab6289ee36ec",
   "metadata": {},
   "source": [
    "### Mod"
   ]
  },
  {
   "cell_type": "code",
   "execution_count": null,
   "id": "061c33e2-c9f7-404f-ac67-80748409da47",
   "metadata": {},
   "outputs": [],
   "source": [
    "def imod(x, y):\n",
    "    x %= y\n",
    "    return x\n",
    "\n",
    "run_func(lambda x, y: x % y, imod, 0, 1)"
   ]
  },
  {
   "cell_type": "markdown",
   "id": "6cdc528c-3d53-4783-a2c7-f48755893cfc",
   "metadata": {},
   "source": [
    "### Divmod"
   ]
  },
  {
   "cell_type": "code",
   "execution_count": null,
   "id": "b07ab12a-69d1-47d1-8d58-0f054de5a8e7",
   "metadata": {},
   "outputs": [],
   "source": [
    "run_func(lambda x, y: divmod(x, y), None, 0, 1)"
   ]
  },
  {
   "cell_type": "markdown",
   "id": "ed8703bb-bbb3-4718-be45-4c2cc196425e",
   "metadata": {},
   "source": [
    "### Pow"
   ]
  },
  {
   "cell_type": "code",
   "execution_count": null,
   "id": "bfef0e39-b4ad-4a48-8c99-f8b6c8f50899",
   "metadata": {},
   "outputs": [],
   "source": [
    "def ipow(x, y):\n",
    "    x **= y\n",
    "    return x\n",
    "\n",
    "run_func(lambda x, y: x ** y, ipow, 2, 3)"
   ]
  },
  {
   "cell_type": "markdown",
   "id": "2e2ccac1-757d-44c4-aa5e-69ffef31a726",
   "metadata": {},
   "source": [
    "### Sin"
   ]
  },
  {
   "cell_type": "code",
   "execution_count": null,
   "id": "be74845f-0813-4943-8b93-20bf74022d19",
   "metadata": {},
   "outputs": [],
   "source": [
    "run_func(lambda x: fl.sin(x), None, 0)"
   ]
  },
  {
   "cell_type": "markdown",
   "id": "7218af3d-7a67-4fd2-a778-88d5f3dd0bb0",
   "metadata": {},
   "source": [
    "### Cos"
   ]
  },
  {
   "cell_type": "code",
   "execution_count": null,
   "id": "69eab618-03a7-42cb-9c36-f9e4c997832c",
   "metadata": {},
   "outputs": [],
   "source": [
    "run_func(lambda x: fl.cos(x), None, 0)"
   ]
  },
  {
   "cell_type": "markdown",
   "id": "a43de8d1-a35b-468b-803d-593a18c91292",
   "metadata": {
    "tags": []
   },
   "source": [
    "### Exp"
   ]
  },
  {
   "cell_type": "code",
   "execution_count": null,
   "id": "79d3ad02-3931-466a-92cb-d90c7684ec89",
   "metadata": {},
   "outputs": [],
   "source": [
    "run_func(lambda x: fl.exp(x), None, 0)"
   ]
  },
  {
   "cell_type": "markdown",
   "id": "8a1e0ecb-87c6-4ce6-908b-721f29232245",
   "metadata": {},
   "source": [
    "### Log"
   ]
  },
  {
   "cell_type": "code",
   "execution_count": null,
   "id": "4bd52b1a-467e-4039-a6ed-0d6c77436e53",
   "metadata": {},
   "outputs": [],
   "source": [
    "run_func(lambda x: fl.log(x), None, 1)"
   ]
  },
  {
   "cell_type": "markdown",
   "id": "4e4cad9d-df98-4281-87f7-ed25beddb979",
   "metadata": {},
   "source": [
    "### Nearest"
   ]
  },
  {
   "cell_type": "code",
   "execution_count": null,
   "id": "b1177567-d317-40ad-80cb-d90f4be18306",
   "metadata": {},
   "outputs": [],
   "source": [
    "run_func(lambda x: fl.nearest(x), None, 1)"
   ]
  },
  {
   "cell_type": "markdown",
   "id": "d9a2e4be-0c0b-438b-a030-45ffbf6cd295",
   "metadata": {
    "tags": []
   },
   "source": [
    "## Bitwise Operations"
   ]
  },
  {
   "cell_type": "code",
   "execution_count": null,
   "id": "9a0f006b-0d5a-49d5-bb8e-bd4ef197aa83",
   "metadata": {},
   "outputs": [],
   "source": [
    "tmp = fc.array('i', 5, 5)"
   ]
  },
  {
   "cell_type": "markdown",
   "id": "f813643c-a2c7-4c10-8081-8cbf69727e48",
   "metadata": {},
   "source": [
    "### Lshift"
   ]
  },
  {
   "cell_type": "code",
   "execution_count": null,
   "id": "6f6d9655-d2f1-405b-85a4-ec00f8abbc55",
   "metadata": {},
   "outputs": [],
   "source": [
    "def ilshift(x):\n",
    "    x <<= tmp\n",
    "    return x\n",
    "\n",
    "run_func(lambda x: x << tmp, ilshift, 1)"
   ]
  },
  {
   "cell_type": "markdown",
   "id": "4f78b028-c1f8-4cae-8025-ba7ae9a870c4",
   "metadata": {},
   "source": [
    "### Rshift"
   ]
  },
  {
   "cell_type": "code",
   "execution_count": null,
   "id": "f93ece38-5a06-486f-8372-4227445a6c57",
   "metadata": {},
   "outputs": [],
   "source": [
    "def irshift(x):\n",
    "    x >>= tmp\n",
    "    return x\n",
    "\n",
    "run_func(lambda x: x >> tmp, irshift, 1)"
   ]
  },
  {
   "cell_type": "markdown",
   "id": "5d5f5001-15f3-411e-8fa0-f16e01434e01",
   "metadata": {},
   "source": [
    "### AND"
   ]
  },
  {
   "cell_type": "code",
   "execution_count": null,
   "id": "26ae92c5-c3c1-4d45-8a2c-f58126956673",
   "metadata": {},
   "outputs": [],
   "source": [
    "def iand(x, y):\n",
    "    x &= y\n",
    "    return x\n",
    "\n",
    "run_func(lambda x, y: x & y, iand, 2, 3)"
   ]
  },
  {
   "cell_type": "markdown",
   "id": "94f52ff9-2e3b-46ac-b244-45c52238aa09",
   "metadata": {},
   "source": [
    "### OR"
   ]
  },
  {
   "cell_type": "code",
   "execution_count": null,
   "id": "b7b27295-0b27-41d0-9b89-2e7eb3ba916a",
   "metadata": {},
   "outputs": [],
   "source": [
    "def ior(x, y):\n",
    "    x |= y\n",
    "    return x\n",
    "\n",
    "run_func(lambda x, y: x | y, ior, 2, 3)"
   ]
  },
  {
   "cell_type": "markdown",
   "id": "9f95ffad-cc8d-46e3-9c20-6ec6a19469da",
   "metadata": {},
   "source": [
    "### XOR"
   ]
  },
  {
   "cell_type": "code",
   "execution_count": null,
   "id": "0bbf5e15-7152-4387-9856-2965022e2426",
   "metadata": {},
   "outputs": [],
   "source": [
    "def xor(x, y):\n",
    "    x ^= y\n",
    "    return x\n",
    "\n",
    "run_func(lambda x, y: x ^ y, xor, 2, 3)"
   ]
  },
  {
   "cell_type": "markdown",
   "id": "163d2303-a770-4610-9313-39e1b4a97dd7",
   "metadata": {},
   "source": [
    "### INVERT"
   ]
  },
  {
   "cell_type": "code",
   "execution_count": null,
   "id": "fb6a7c12-163c-438c-934d-6f4c76dca659",
   "metadata": {},
   "outputs": [],
   "source": [
    "run_func(lambda x: ~x, None, 2)"
   ]
  },
  {
   "cell_type": "markdown",
   "id": "4f1991ae-bab9-4592-973f-5cef5d1d1599",
   "metadata": {},
   "source": [
    "### Transmit"
   ]
  },
  {
   "cell_type": "code",
   "execution_count": null,
   "id": "1c876ce9-4916-49e3-93d4-64034c20db66",
   "metadata": {},
   "outputs": [],
   "source": [
    "with (fl.on(fc.CoordinatorID)):\n",
    "    local_x = fc.array('i', 10000000, 100)\n",
    "\n",
    "x = fl.transmit({i : local_x for i in fc.scope()})[fc.CoordinatorID]\n",
    "\n",
    "x.len()\n",
    "fl._equal_int(x, fc.array('i', 10000000, 100))"
   ]
  },
  {
   "cell_type": "markdown",
   "id": "76380201-36be-4ae6-8b92-e95b0a2959e4",
   "metadata": {},
   "source": [
    "# Transmit algorithm"
   ]
  },
  {
   "cell_type": "code",
   "execution_count": null,
   "id": "98328941-5fd0-4049-abd7-0f32aef74bd7",
   "metadata": {},
   "outputs": [],
   "source": [
    "# arr = [(1,0),(2,0),(3,0),(4,0),(5,0)]\n",
    "# arr = [(0,0),(0,1),(0,2),(0,3),(0,4),(1,0),(1,1),(1,2),(1,3),(1,4)]\n",
    "arr = [(0,0),(0,1),(0,2),(0,3),(0,4),(1,0),(1,1),(1,2),(1,3),(1,4),(2,0),(2,1),(2,2),(2,3),(2,4),(3,0),(3,1),(3,2),(3,3),(3,4),(4,0),(4,1),(4,2),(4,3),(4,4)]\n",
    "# arr = [(1,0),(0,1),(5,4)]\n",
    "\n",
    "def transmit_order(combs):\n",
    "    combs_new = sorted(combs, key=lambda tup: (tup[0], tup[1]))\n",
    "    transmit_order = []\n",
    "    processed = []\n",
    "    senders = {}\n",
    "    for i in combs_new:\n",
    "        if i[0] not in senders:\n",
    "            senders[i[0]] = []\n",
    "        senders[i[0]].append(i[1])\n",
    "    tmp_transmit_order = [1]\n",
    "    while len(tmp_transmit_order) != 0:\n",
    "        tmp_transmit_order = []\n",
    "        receiving_tmp = []\n",
    "        for i, v in senders.items():\n",
    "            for j in range(len(v)):\n",
    "                idx = (i + j + 1) % len(v)\n",
    "                if (i, v[idx]) not in processed and v[idx] not in receiving_tmp:\n",
    "                    processed.append((i, v[idx]))\n",
    "                    tmp_transmit_order.append((i, v[idx]))\n",
    "                    receiving_tmp.append(v[idx])\n",
    "                    break\n",
    "        if len(tmp_transmit_order) > 0:\n",
    "            transmit_order.append(tmp_transmit_order)   \n",
    "    return transmit_order\n",
    "ord = transmit_order(arr)         "
   ]
  },
  {
   "cell_type": "code",
   "execution_count": null,
   "id": "a1f31846-5d29-41ca-94fe-33862e4228a3",
   "metadata": {},
   "outputs": [],
   "source": [
    "ord"
   ]
  },
  {
   "cell_type": "markdown",
   "id": "151af438-4bcc-4595-9ea1-28f01d38e652",
   "metadata": {},
   "source": [
    "# Other"
   ]
  },
  {
   "cell_type": "code",
   "execution_count": null,
   "id": "2d1c2bd3-8104-45ab-a28d-f9681d3dfdf1",
   "metadata": {},
   "outputs": [],
   "source": [
    "a = fc.calc_broadcast_length([1, 2, 3, fc.array('i', 10000000, 100)])\n",
    "a.tolist()"
   ]
  },
  {
   "cell_type": "markdown",
   "id": "c469b38c-45de-49c0-bd48-41f547ebabe6",
   "metadata": {},
   "source": [
    "## RabbitMQ "
   ]
  },
  {
   "cell_type": "markdown",
   "id": "c99cc4c9-3ddd-4e04-99e3-972639143ccb",
   "metadata": {},
   "source": [
    "### Test when segment manager crashes midway through processing a message"
   ]
  },
  {
   "cell_type": "code",
   "execution_count": null,
   "id": "4601c2b5-15ec-4c5b-ab4e-7c6b660dc6ae",
   "metadata": {},
   "outputs": [],
   "source": [
    "fc._backend.segment_clients[0].run_command(f\"error\")"
   ]
  },
  {
   "cell_type": "markdown",
   "id": "38f9b6db-e7fe-442b-abee-751c3a02bc9a",
   "metadata": {},
   "source": [
    "### Test ping command"
   ]
  },
  {
   "cell_type": "code",
   "execution_count": null,
   "id": "c3df441c-f01d-4737-8ba5-d3f41bb95e1e",
   "metadata": {},
   "outputs": [],
   "source": [
    "fc.ping()"
   ]
  },
  {
   "cell_type": "markdown",
   "id": "c521e65e-c473-4e88-90ec-b5bcf8fe3800",
   "metadata": {},
   "source": [
    "### Nodeset"
   ]
  },
  {
   "cell_type": "code",
   "execution_count": null,
   "id": "f10d7282-4e6a-4e93-a6bf-407dadf94985",
   "metadata": {},
   "outputs": [],
   "source": [
    "# TODO"
   ]
  },
  {
   "cell_type": "markdown",
   "id": "f86d9aa2-5e8f-495c-80a0-ff6b0ea64684",
   "metadata": {},
   "source": [
    "# Listmaps"
   ]
  },
  {
   "cell_type": "markdown",
   "id": "dece87ca-2b9d-4682-8a70-475b107e6920",
   "metadata": {},
   "source": [
    "**Generic Test Function**\n",
    "\n",
    "Below is a test function that passes an assortment of keys to each listmap method to validate no unexpected errors are thrown"
   ]
  },
  {
   "cell_type": "code",
   "execution_count": null,
   "id": "498d2f56-7075-45c1-a2d2-927c54aba99a",
   "metadata": {
    "tags": []
   },
   "outputs": [],
   "source": [
    "def print_lm(lm):\n",
    "    keys = lm.keys()\n",
    "    arrs = []\n",
    "    vals = lm[keys].tolist()\n",
    "    res = []\n",
    "    for i, k in enumerate(keys):\n",
    "        if k.typecode() in ['i', 'f']:\n",
    "            arrs.append(k.tolist())\n",
    "    for i in range(len(arrs[0])):\n",
    "        tmp = []\n",
    "        for w in range(lm.width()):\n",
    "            tmp.append(arrs[w][i])\n",
    "        res.append(tmp + [vals[i]])\n",
    "    res.sort(key=lambda x: x[0])\n",
    "    print(res)"
   ]
  },
  {
   "cell_type": "code",
   "execution_count": null,
   "id": "1e334716-ac7a-40c5-8a33-8260470997c2",
   "metadata": {},
   "outputs": [],
   "source": [
    "def print_keys(keys):\n",
    "    arrs = []\n",
    "    res = []\n",
    "    for i, k in enumerate(keys):\n",
    "        if k.typecode() in ['i', 'f']:\n",
    "            arrs.append(k.tolist())\n",
    "    for i in range(len(arrs[0])):\n",
    "        tmp = []\n",
    "        for w in range(len(keys)):\n",
    "            tmp.append(arrs[w][i])\n",
    "        res.append(tmp)\n",
    "    res.sort(key=lambda x: x[0])\n",
    "    print(res)"
   ]
  },
  {
   "cell_type": "code",
   "execution_count": null,
   "id": "d73b007e-34d1-4bc9-bf9a-2cab9ee509c2",
   "metadata": {},
   "outputs": [],
   "source": [
    "k1 = fc.arange(10)\n",
    "k2 = fc.array('f', 10, 1)\n",
    "keys1 = [k1, k2]\n",
    "\n",
    "k3 = fc.arange(10) + 10\n",
    "k4 = fc.array('f', 10, 2)\n",
    "keys2 = [k3, k4]\n",
    "\n",
    "k5 = fc.arange(10) + 5\n",
    "k6 = fc.array('f', 10, 1)\n",
    "keys3 = [k5, k6]\n",
    "\n",
    "k7 = fc.array('b20', 10)\n",
    "keys4 = [k1, k5, k6, k7]\n",
    "\n",
    "k8 = fc.arange(20)\n",
    "k9 = fc.array('f', 20, 1)\n",
    "keys5 = [k8, k9]\n",
    "\n",
    "k10 = fc.arange(2) + 10\n",
    "k11 = fc.array('f', 2, 1)\n",
    "keys6 = [k10, k11]\n",
    "\n",
    "k12 = fc.arange(5) + 8\n",
    "k13 = fc.array('f', 5, 1)\n",
    "keys7 = [k12, k13]\n",
    "\n",
    "k14 = fc.arange(2)\n",
    "k15 = fc.array('f', 2, 1)\n",
    "keys8 = [k14, k15]\n",
    "\n",
    "k16 = fc.arange(2)\n",
    "k17 = fc.array('f', 2, 1)\n",
    "keys9 = [k16, k17]\n",
    "\n",
    "k18 = fc.arange(3) + 9\n",
    "k19 = fc.array('f', 3, 1)\n",
    "keys10 = [k18, k19]\n",
    "\n",
    "k20 = fc.array('I', 10)\n",
    "keys11 = [k1, k5, k6, k7, k20]"
   ]
  },
  {
   "cell_type": "markdown",
   "id": "2bedfb82-85d7-4980-9783-01f13c6fe860",
   "metadata": {},
   "source": [
    "## Create"
   ]
  },
  {
   "cell_type": "markdown",
   "id": "13b6e220-8f87-4e30-96aa-5f42c1b5aded",
   "metadata": {},
   "source": [
    "### listmap(arrays)"
   ]
  },
  {
   "cell_type": "code",
   "execution_count": null,
   "id": "c447e058-f16a-438f-a18a-c68df9c0efe7",
   "metadata": {},
   "outputs": [],
   "source": [
    "listmap_1 = fc.listmap(keys1)"
   ]
  },
  {
   "cell_type": "code",
   "execution_count": null,
   "id": "9b8cf473-c6a3-4c60-b9f2-d2e609c3b4dc",
   "metadata": {},
   "outputs": [],
   "source": [
    "print_lm(listmap_1)"
   ]
  },
  {
   "cell_type": "code",
   "execution_count": null,
   "id": "0ce07376-6619-4ee8-931b-a4cc8e013086",
   "metadata": {},
   "outputs": [],
   "source": [
    "listmap_2 = fc.listmap(keys1, order=\"rnd\")"
   ]
  },
  {
   "cell_type": "code",
   "execution_count": null,
   "id": "e08359f7-5ee0-48f5-abd1-063dfa50a4e1",
   "metadata": {},
   "outputs": [],
   "source": [
    "print_lm(listmap_2)"
   ]
  },
  {
   "cell_type": "code",
   "execution_count": null,
   "id": "b2c75116-50ab-480d-baf2-fdc69e30029b",
   "metadata": {},
   "outputs": [],
   "source": [
    "listmap_3 = fc.listmap([k2, k2], order=\"any\")"
   ]
  },
  {
   "cell_type": "markdown",
   "id": "9b2e5a24-af0d-4431-8c09-8b3ab1c48307",
   "metadata": {},
   "source": [
    "### listmap(typecode)"
   ]
  },
  {
   "cell_type": "code",
   "execution_count": null,
   "id": "15f2eca7-ad58-4d7a-907e-5cff65294a86",
   "metadata": {},
   "outputs": [],
   "source": [
    "listmap_4 = fc.listmap('if', keys1)"
   ]
  },
  {
   "cell_type": "code",
   "execution_count": null,
   "id": "4ac0603b-b799-404f-a93f-7d9505b52bff",
   "metadata": {},
   "outputs": [],
   "source": [
    "listmap_4.keys()"
   ]
  },
  {
   "cell_type": "markdown",
   "id": "1501e806-a33e-43b6-9c15-25014e2b5920",
   "metadata": {},
   "source": [
    "### listmap(typecode, arrays)"
   ]
  },
  {
   "cell_type": "code",
   "execution_count": null,
   "id": "f685b045-b9a9-47be-a8ee-dde9ab7b9860",
   "metadata": {},
   "outputs": [],
   "source": [
    "listmap_5 = fc.listmap('iifb20', keys4)"
   ]
  },
  {
   "cell_type": "markdown",
   "id": "fa48345b",
   "metadata": {},
   "source": [
    "### ed25519ints"
   ]
  },
  {
   "cell_type": "code",
   "execution_count": null,
   "id": "a2192d5a",
   "metadata": {},
   "outputs": [],
   "source": [
    "listmap_6 = fc.listmap('iifb20I', keys11)"
   ]
  },
  {
   "cell_type": "markdown",
   "id": "1e8ce4c1",
   "metadata": {},
   "source": [
    "### Check non-keyword order params "
   ]
  },
  {
   "cell_type": "code",
   "execution_count": null,
   "id": "defd30ab",
   "metadata": {},
   "outputs": [],
   "source": [
    "listmap_7 = fc.listmap(keys1, \"any\")"
   ]
  },
  {
   "cell_type": "code",
   "execution_count": null,
   "id": "12211a93",
   "metadata": {},
   "outputs": [],
   "source": [
    "listmap_8 = fc.listmap('if', keys1, \"rnd\")"
   ]
  },
  {
   "cell_type": "code",
   "execution_count": null,
   "id": "8a3aaf9c",
   "metadata": {},
   "outputs": [],
   "source": [
    "listmap_9 = fc.listmap('if', \"pos\")"
   ]
  },
  {
   "cell_type": "markdown",
   "id": "1856862f",
   "metadata": {},
   "source": [
    "### Check invalid order throws error"
   ]
  },
  {
   "cell_type": "code",
   "execution_count": null,
   "id": "aa297af2",
   "metadata": {},
   "outputs": [],
   "source": [
    "try:\n",
    "    fc.listmap('if', \"foo\")\n",
    "except ValueError as ex:\n",
    "    print(ex)"
   ]
  },
  {
   "cell_type": "markdown",
   "id": "e8069340",
   "metadata": {},
   "source": [
    "## Test todict()"
   ]
  },
  {
   "cell_type": "code",
   "execution_count": null,
   "id": "cc621e3f",
   "metadata": {},
   "outputs": [],
   "source": [
    "listmap_1 = fc.listmap(keys1)\n",
    "print(listmap_1.todict())"
   ]
  },
  {
   "cell_type": "code",
   "execution_count": null,
   "id": "7145322e",
   "metadata": {},
   "outputs": [],
   "source": [
    "listmap_5 = fc.listmap('iifb20', keys4)\n",
    "try:\n",
    "    listmap_5.todict()\n",
    "except TypeError as ex:\n",
    "    print(ex)"
   ]
  },
  {
   "cell_type": "markdown",
   "id": "df18edaf-42ef-4b98-a907-acd6b9d82bcd",
   "metadata": {},
   "source": [
    "## Check that all keys in set are also in listmap"
   ]
  },
  {
   "cell_type": "code",
   "execution_count": null,
   "id": "62390c7a-0a1b-451d-9027-739234771170",
   "metadata": {},
   "outputs": [],
   "source": [
    "if not listmap_1.listmap_contains_all_keys(keys2):\n",
    "    print(\"test passed\")\n",
    "else:\n",
    "    raise Exception(\"test failed\")"
   ]
  },
  {
   "cell_type": "code",
   "execution_count": null,
   "id": "c8f74634-412f-4384-a6dc-7a305798bc26",
   "metadata": {},
   "outputs": [],
   "source": [
    "if listmap_1.listmap_contains_all_keys(keys1):\n",
    "    print(\"test passed\")\n",
    "else:\n",
    "    raise Exception(\"test failed\")"
   ]
  },
  {
   "cell_type": "markdown",
   "id": "ac16a1e5-fee5-4cd3-8628-13771bf7a596",
   "metadata": {},
   "source": [
    "## Check that no keys in set are in listmap"
   ]
  },
  {
   "cell_type": "code",
   "execution_count": null,
   "id": "eb601f54-19c8-4629-b4ee-8094f4562540",
   "metadata": {},
   "outputs": [],
   "source": [
    "if listmap_1.listmap_contains_no_keys(keys2):\n",
    "    print(\"test passed\")\n",
    "else:\n",
    "    raise Exception(\"test failed\")"
   ]
  },
  {
   "cell_type": "code",
   "execution_count": null,
   "id": "9a9f6a78-d89a-4eb6-a6f4-a13078b651e0",
   "metadata": {},
   "outputs": [],
   "source": [
    "if not listmap_1.listmap_contains_no_keys(keys1):\n",
    "    print(\"test passed\")\n",
    "else:\n",
    "    raise Exception(\"test failed\")"
   ]
  },
  {
   "cell_type": "code",
   "execution_count": null,
   "id": "6c073bc8-5ef0-41f1-a138-90be87570db6",
   "metadata": {},
   "outputs": [],
   "source": [
    "if not listmap_1.listmap_contains_no_keys(keys3):\n",
    "    print(\"test passed\")\n",
    "else:\n",
    "    raise Exception(\"test failed\")"
   ]
  },
  {
   "cell_type": "markdown",
   "id": "412c0acf-ca83-4206-9b59-a8aeaeb46d9a",
   "metadata": {},
   "source": [
    "## Check keys are unique in set"
   ]
  },
  {
   "cell_type": "code",
   "execution_count": null,
   "id": "b3964c6b-e099-448f-bae8-6eea2430bc06",
   "metadata": {},
   "outputs": [],
   "source": [
    "if fc.keys_unique([k5]):\n",
    "    print(\"test passed\")\n",
    "else:\n",
    "    raise Exception(\"test failed\")"
   ]
  },
  {
   "cell_type": "code",
   "execution_count": null,
   "id": "71075448-4974-4085-808e-d685f503d5b1",
   "metadata": {},
   "outputs": [],
   "source": [
    "if not fc.keys_unique([k6]):\n",
    "    print(\"test passed\")\n",
    "else:\n",
    "    raise Exception(\"test failed\")"
   ]
  },
  {
   "cell_type": "code",
   "execution_count": null,
   "id": "35aa9ae1-bac8-487c-83c2-5acd21e21630",
   "metadata": {},
   "outputs": [],
   "source": [
    "if fc.keys_unique(listmap_4.keys()):\n",
    "    print(\"test passed\")\n",
    "else:\n",
    "    raise Exception(\"test failed\")"
   ]
  },
  {
   "cell_type": "markdown",
   "id": "6c5a3d88-27a9-4ac9-9f11-2200be003acf",
   "metadata": {},
   "source": [
    "## Get keys"
   ]
  },
  {
   "cell_type": "code",
   "execution_count": null,
   "id": "c9c48e4d-28dc-465a-8ab2-65a5302e7519",
   "metadata": {},
   "outputs": [],
   "source": [
    "get_keys_res = listmap_1.keys()"
   ]
  },
  {
   "cell_type": "code",
   "execution_count": null,
   "id": "d70c92e8-698e-4927-84d2-19b559e114f6",
   "metadata": {},
   "outputs": [],
   "source": [
    "print_keys(get_keys_res[0:2])"
   ]
  },
  {
   "cell_type": "code",
   "execution_count": null,
   "id": "a88535c9",
   "metadata": {},
   "outputs": [],
   "source": [
    "listmap_6.keys()"
   ]
  },
  {
   "cell_type": "markdown",
   "id": "db2753e0-6534-4de5-a82c-3c7da296b26e",
   "metadata": {},
   "source": [
    "## Contains"
   ]
  },
  {
   "cell_type": "code",
   "execution_count": null,
   "id": "347ae530-b688-4436-a72a-10338d777163",
   "metadata": {},
   "outputs": [],
   "source": [
    "k8 = fc.arange(2)\n",
    "k9 = fc.array('f', 2, 1)\n",
    "contains_res1 = listmap_1.__contains__([k8, k9]) # TODO: check in"
   ]
  },
  {
   "cell_type": "code",
   "execution_count": null,
   "id": "0e98430a-e662-4195-b88a-de16dcfdbf1b",
   "metadata": {},
   "outputs": [],
   "source": [
    "contains_res1.tolist()"
   ]
  },
  {
   "cell_type": "markdown",
   "id": "aa9254b8-4e82-426f-8ff4-12aa8c634e80",
   "metadata": {},
   "source": [
    "## Get Items"
   ]
  },
  {
   "cell_type": "code",
   "execution_count": null,
   "id": "4a8f8f0d-8b85-42dd-992d-5fb96b3e2a29",
   "metadata": {},
   "outputs": [],
   "source": [
    "get_items_res1 = listmap_1[keys1]"
   ]
  },
  {
   "cell_type": "code",
   "execution_count": null,
   "id": "bc743e21-a34f-4a04-811b-f4a8cd9a0dc3",
   "metadata": {},
   "outputs": [],
   "source": [
    "get_items_res1.tolist()"
   ]
  },
  {
   "cell_type": "code",
   "execution_count": null,
   "id": "0db79633-6501-4d55-aecf-a77451385969",
   "metadata": {},
   "outputs": [],
   "source": [
    "try:\n",
    "    get_items_res2 = listmap_1[[k2, k2]]\n",
    "except ValueError as ex:\n",
    "    print(ex)"
   ]
  },
  {
   "cell_type": "code",
   "execution_count": null,
   "id": "84800d27-9464-48eb-8548-70ccedff11b2",
   "metadata": {},
   "outputs": [],
   "source": [
    "get_items_res3 = listmap_1[listmap_1.keys()]"
   ]
  },
  {
   "cell_type": "code",
   "execution_count": null,
   "id": "7d0cccc7-bd26-4d65-b683-798d65333a88",
   "metadata": {},
   "outputs": [],
   "source": [
    "try:\n",
    "    get_items_res4 = listmap_1[listmap_1]\n",
    "except ValueError as ex:\n",
    "    print(ex)"
   ]
  },
  {
   "cell_type": "markdown",
   "id": "3e10866f-25c4-45d4-a664-604a3e1101c7",
   "metadata": {},
   "source": [
    "## Lookup"
   ]
  },
  {
   "cell_type": "code",
   "execution_count": null,
   "id": "7bc259d8-edc8-4dc0-bacb-a672106b3ffe",
   "metadata": {},
   "outputs": [],
   "source": [
    "lookup_res = listmap_1.lookup(keys5, -1)"
   ]
  },
  {
   "cell_type": "code",
   "execution_count": null,
   "id": "950f931b-badc-417e-a53b-a8f5191dada4",
   "metadata": {},
   "outputs": [],
   "source": [
    "lookup_res.tolist()"
   ]
  },
  {
   "cell_type": "markdown",
   "id": "966ee574-0c52-4909-81b8-26dd12dad758",
   "metadata": {},
   "source": [
    "## Add Items"
   ]
  },
  {
   "cell_type": "code",
   "execution_count": null,
   "id": "39f99f69-cbda-4648-96cd-d4759efb6ba4",
   "metadata": {},
   "outputs": [],
   "source": [
    "add_items_res1 = listmap_1.add_items(keys6)"
   ]
  },
  {
   "cell_type": "code",
   "execution_count": null,
   "id": "4a52836b-378f-4355-8968-c57c5a161306",
   "metadata": {},
   "outputs": [],
   "source": [
    "try:\n",
    "    add_items_res2 = listmap_1.add_items(keys6)\n",
    "except ValueError as ex:\n",
    "    print(ex)"
   ]
  },
  {
   "cell_type": "code",
   "execution_count": null,
   "id": "70a41b9c-3488-4ad6-8f86-17b620cb8b7a",
   "metadata": {},
   "outputs": [],
   "source": [
    "try:\n",
    "    add_items_res3 = listmap_1.add_items([k11, k11])\n",
    "except ValueError as ex:\n",
    "    print(ex)"
   ]
  },
  {
   "cell_type": "code",
   "execution_count": null,
   "id": "789d6164-bfac-4997-bf2b-ec3316e33931",
   "metadata": {},
   "outputs": [],
   "source": [
    "listmap_6 = fc.listmap([k1+ 20, k2])\n",
    "add_items_res4 = listmap_1.add_items(listmap_6)"
   ]
  },
  {
   "cell_type": "markdown",
   "id": "86205a83-d46f-420c-8eb3-c699683f760a",
   "metadata": {},
   "source": [
    "## Merge Items"
   ]
  },
  {
   "cell_type": "code",
   "execution_count": null,
   "id": "14ad480d-f576-4df4-b8da-8a61407bf73a",
   "metadata": {},
   "outputs": [],
   "source": [
    "merge_items_res1 = listmap_1.merge_items(keys7)"
   ]
  },
  {
   "cell_type": "code",
   "execution_count": null,
   "id": "e60da6ed-78b0-4208-b30b-99264a6310ea",
   "metadata": {},
   "outputs": [],
   "source": [
    "merge_items_res1[0].tolist()"
   ]
  },
  {
   "cell_type": "code",
   "execution_count": null,
   "id": "8b2bb0ca-3d1c-4b3a-8343-e41c22334ffd",
   "metadata": {},
   "outputs": [],
   "source": [
    "merge_items_res1[1].tolist()"
   ]
  },
  {
   "cell_type": "code",
   "execution_count": null,
   "id": "d71343ec-2884-40d3-b7b5-4eeaac328df2",
   "metadata": {},
   "outputs": [],
   "source": [
    "merge_items_res1[2].tolist()"
   ]
  },
  {
   "cell_type": "markdown",
   "id": "c2ec117c-1b25-4ae4-9177-278565c0acc6",
   "metadata": {},
   "source": [
    "## Remove Items"
   ]
  },
  {
   "cell_type": "code",
   "execution_count": null,
   "id": "0e9e566c-ae15-4d33-93d0-2129509a43bb",
   "metadata": {},
   "outputs": [],
   "source": [
    "remove_items_res1 = listmap_1.remove_items(keys8)"
   ]
  },
  {
   "cell_type": "code",
   "execution_count": null,
   "id": "ce0922b6-8704-4492-8d83-7c9bef58b7e6",
   "metadata": {},
   "outputs": [],
   "source": [
    "remove_items_res1[0].tolist()"
   ]
  },
  {
   "cell_type": "code",
   "execution_count": null,
   "id": "c7fe52cb-6a0e-4f91-a4da-f702f1022acd",
   "metadata": {},
   "outputs": [],
   "source": [
    "remove_items_res1[1].tolist()"
   ]
  },
  {
   "cell_type": "code",
   "execution_count": null,
   "id": "ff96a4c6-5442-41e1-ba91-017e70aac3e5",
   "metadata": {},
   "outputs": [],
   "source": [
    "remove_items_res1[2].tolist()"
   ]
  },
  {
   "cell_type": "code",
   "execution_count": null,
   "id": "51c166c4-0362-420d-9780-55da1b6b2cc8",
   "metadata": {},
   "outputs": [],
   "source": [
    "remove_items_res1[3].tolist()"
   ]
  },
  {
   "cell_type": "code",
   "execution_count": null,
   "id": "c3969316-37cf-4cd9-8e33-77fbd183a01a",
   "metadata": {},
   "outputs": [],
   "source": [
    "try:\n",
    "    remove_items_res2 = listmap_1.remove_items(keys8)\n",
    "except ValueError as ex:\n",
    "    print(ex)"
   ]
  },
  {
   "cell_type": "code",
   "execution_count": null,
   "id": "cb1cd2af-2fa3-4c71-89a1-b4c846799449",
   "metadata": {},
   "outputs": [],
   "source": [
    "try:\n",
    "    remove_items_res3 = listmap_1.remove_items([k15, k15])\n",
    "except ValueError as ex:\n",
    "    print(ex)"
   ]
  },
  {
   "cell_type": "code",
   "execution_count": null,
   "id": "d98eab22-6e63-4f24-a4d1-8610086c6642",
   "metadata": {},
   "outputs": [],
   "source": [
    "remove_items_res4 = listmap_2.remove_items(listmap_2)"
   ]
  },
  {
   "cell_type": "code",
   "execution_count": null,
   "id": "f7d3cff7-50a3-4da0-bb33-4b2518561b78",
   "metadata": {},
   "outputs": [],
   "source": [
    "print_keys(remove_items_res4[0:2])"
   ]
  },
  {
   "cell_type": "markdown",
   "id": "250a499b-8c40-427c-ad40-68bfd440e4cc",
   "metadata": {},
   "source": [
    "## Discard Items"
   ]
  },
  {
   "cell_type": "code",
   "execution_count": null,
   "id": "307e9cbb-538e-4a2a-8acf-37e635038b6d",
   "metadata": {},
   "outputs": [],
   "source": [
    "discard_items_res1 = listmap_1.discard_items(keys9)\n",
    "discard_items_res1 = listmap_1.discard_items(keys9)"
   ]
  },
  {
   "cell_type": "code",
   "execution_count": null,
   "id": "343722bd-0862-40bf-a5c3-09300f504ed6",
   "metadata": {},
   "outputs": [],
   "source": [
    "discard_items_res1[0].tolist()"
   ]
  },
  {
   "cell_type": "code",
   "execution_count": null,
   "id": "4e5001dc-7066-4b83-8079-7d0fb89ee12e",
   "metadata": {},
   "outputs": [],
   "source": [
    "discard_items_res1[1].tolist()"
   ]
  },
  {
   "cell_type": "code",
   "execution_count": null,
   "id": "b36f1cfe-6b36-4406-8fee-00e7552cb155",
   "metadata": {},
   "outputs": [],
   "source": [
    "discard_items_res1[2].tolist()"
   ]
  },
  {
   "cell_type": "code",
   "execution_count": null,
   "id": "947a6bb6-bf88-41e9-9582-ebd2c5a9c35b",
   "metadata": {},
   "outputs": [],
   "source": [
    "discard_items_res1[3].tolist()"
   ]
  },
  {
   "cell_type": "markdown",
   "id": "37acd7ba-47de-48e6-b114-288b6b1dc990",
   "metadata": {},
   "source": [
    "## Intersect Items"
   ]
  },
  {
   "cell_type": "code",
   "execution_count": null,
   "id": "8f41fa67-e5b6-4d1f-90e2-5a8cafb340d0",
   "metadata": {},
   "outputs": [],
   "source": [
    "intersect_res = listmap_1.intersect_items(keys10)"
   ]
  },
  {
   "cell_type": "code",
   "execution_count": null,
   "id": "a0e5fcbc-e684-464a-981d-791959dd856a",
   "metadata": {},
   "outputs": [],
   "source": [
    "intersect_res[0].tolist()"
   ]
  },
  {
   "cell_type": "code",
   "execution_count": null,
   "id": "6ac6bd04-9acf-4681-866e-517c437cea19",
   "metadata": {},
   "outputs": [],
   "source": [
    "intersect_res[1].tolist()"
   ]
  },
  {
   "cell_type": "markdown",
   "id": "38203278-6d2d-4624-afe7-f295f4cf3cc2",
   "metadata": {},
   "source": [
    "## auxdb_read"
   ]
  },
  {
   "cell_type": "code",
   "execution_count": null,
   "id": "1707a588-c37e-4a66-bda7-e17bab5704a4",
   "metadata": {},
   "outputs": [],
   "source": [
    "listmap_7 = fc.listmap(\"iifb32\")\n",
    "listmap_7.auxdb_read(\"SELECT DISTINCT origin_id, dest_id, amount, datetime FROM transactions limit 5\")"
   ]
  },
  {
   "cell_type": "code",
   "execution_count": null,
   "id": "d0a343c8-0ea6-4eb7-a53a-d1c619e5dd0e",
   "metadata": {},
   "outputs": [],
   "source": [
    "listmap_7.keys()[0].tolist()"
   ]
  },
  {
   "cell_type": "code",
   "execution_count": null,
   "id": "596e3355-4c8a-4f77-9459-825710459443",
   "metadata": {},
   "outputs": [],
   "source": [
    "# TODO add check for bytearray size"
   ]
  },
  {
   "cell_type": "markdown",
   "id": "2b6f90f8-7201-44ad-8dce-3a2eae04706d",
   "metadata": {},
   "source": [
    "### Copy"
   ]
  },
  {
   "cell_type": "code",
   "execution_count": null,
   "id": "e9687175-83e5-4ccf-85de-02218d78a4e2",
   "metadata": {},
   "outputs": [],
   "source": [
    "listmap_8 = listmap_1.copy()"
   ]
  },
  {
   "cell_type": "code",
   "execution_count": null,
   "id": "ce8e348e-0bb1-4bb0-8c60-e899dc468db3",
   "metadata": {},
   "outputs": [],
   "source": [
    "listmap_8.handle()"
   ]
  },
  {
   "cell_type": "code",
   "execution_count": null,
   "id": "47c05cd6-abaf-47e7-a5d8-a947631b7ee1",
   "metadata": {},
   "outputs": [],
   "source": [
    "listmap_1.handle()"
   ]
  },
  {
   "cell_type": "code",
   "execution_count": null,
   "id": "a2daa3f4-6326-4010-9df0-b14cd7f67f87",
   "metadata": {},
   "outputs": [],
   "source": [
    "listmap_8.remove_items(keys8)"
   ]
  },
  {
   "cell_type": "code",
   "execution_count": null,
   "id": "5b063e2d-c105-41d4-8a18-5faf33bfb727",
   "metadata": {},
   "outputs": [],
   "source": [
    "listmap_8.keys()[0].tolist()"
   ]
  },
  {
   "cell_type": "code",
   "execution_count": null,
   "id": "aa078bac-0ce1-4818-9d64-f38cdceb7a93",
   "metadata": {},
   "outputs": [],
   "source": [
    "listmap_1.keys()[0].tolist()"
   ]
  },
  {
   "cell_type": "markdown",
   "id": "cdf00306-69c3-4197-ac53-d2b77728d832",
   "metadata": {},
   "source": [
    "### Set item"
   ]
  },
  {
   "cell_type": "code",
   "execution_count": null,
   "id": "49f9768e-0971-4779-a94e-36e5e8ffdf14",
   "metadata": {},
   "outputs": [],
   "source": [
    "listmap_1 = fc.listmap(keys1)"
   ]
  },
  {
   "cell_type": "code",
   "execution_count": null,
   "id": "96ae95e7-d76e-4ab0-b43a-38ae29e0dd03",
   "metadata": {},
   "outputs": [],
   "source": [
    "listmap_1[:] = fc.listmap(keys2)"
   ]
  },
  {
   "cell_type": "code",
   "execution_count": null,
   "id": "a28f4a24-87f4-46a4-9dbe-8ca8b61da01a",
   "metadata": {},
   "outputs": [],
   "source": [
    "listmap_1.keys()[0].tolist()"
   ]
  },
  {
   "cell_type": "markdown",
   "id": "9a6ca639-c54c-4aca-96b4-6cb2720369c3",
   "metadata": {},
   "source": [
    "# Auxdb_write"
   ]
  },
  {
   "cell_type": "code",
   "execution_count": null,
   "id": "326bad85-3e97-49b7-b28f-25335a02ad70",
   "metadata": {},
   "outputs": [],
   "source": [
    "fc.auxdb_read(\"CREATE TABLE IF NOT EXISTS test_table (i integer, f float)\")"
   ]
  },
  {
   "cell_type": "code",
   "execution_count": null,
   "id": "1103546d-f8a1-4d02-b916-82f09f5af623",
   "metadata": {},
   "outputs": [],
   "source": [
    "a = fc.array(\"i\", 1, 1)\n",
    "b = fc.array(\"f\", 1, 1.0)\n",
    "fc.auxdb_write(\"test_table\", [\"i\", \"f\"], [a, b])"
   ]
  },
  {
   "cell_type": "code",
   "execution_count": null,
   "id": "d21d2401-fa11-4a8a-a18e-cf17e736667d",
   "metadata": {},
   "outputs": [],
   "source": [
    "try:\n",
    "    a = fc.array(\"i\", 1, 1)\n",
    "    b = fc.array(\"f\", 5, 1.0)\n",
    "    fc.auxdb_write(\"test_table\", [\"i\", \"f\"], [a, b])\n",
    "except Exception as ex:\n",
    "    print(ex)"
   ]
  },
  {
   "cell_type": "code",
   "execution_count": null,
   "id": "8a91bea1-3321-45ee-bdb8-413fafdf93a5",
   "metadata": {},
   "outputs": [],
   "source": [
    "fc.auxdb_read(\"CREATE TABLE IF NOT EXISTS test_table2 (a integer, b float, c bytea)\")"
   ]
  },
  {
   "cell_type": "code",
   "execution_count": null,
   "id": "e385c7a3-3710-418c-93ab-6690ce421ddf",
   "metadata": {},
   "outputs": [],
   "source": [
    "a = fc.array(\"i\", 1, 1)\n",
    "b = fc.array(\"f\", 1, 1.0)\n",
    "c = fc.randomarray(\"b8\", 1)\n",
    "fc.auxdb_write(\"test_table2\", [\"a\", \"b\", \"c\"], [a, b, c])"
   ]
  },
  {
   "cell_type": "code",
   "execution_count": null,
   "id": "ffa6ad80-9994-41b0-8a0d-0ea320ed0812",
   "metadata": {},
   "outputs": [],
   "source": [
    "c.tolist()"
   ]
  },
  {
   "cell_type": "markdown",
   "id": "3b477b9c-a9c8-4846-97b8-ffadd2f990ea",
   "metadata": {},
   "source": [
    "# Verify"
   ]
  },
  {
   "cell_type": "code",
   "execution_count": null,
   "id": "98abbb99-da6a-43b7-ab89-cc4685f6b840",
   "metadata": {},
   "outputs": [],
   "source": [
    "verify_arr1 = fc.arange(10)\n",
    "fl.verify(verify_arr1)"
   ]
  },
  {
   "cell_type": "code",
   "execution_count": null,
   "id": "ffdd1a9b-e6cc-4791-918b-781b8c682098",
   "metadata": {},
   "outputs": [],
   "source": [
    "verify_arr2 = fc.array('i', 10, 1)\n",
    "fl.verify(verify_arr2)"
   ]
  },
  {
   "cell_type": "code",
   "execution_count": null,
   "id": "4dc8d439-5c6a-432d-b523-9740850f4013",
   "metadata": {},
   "outputs": [],
   "source": []
  }
 ],
 "metadata": {
  "kernelspec": {
   "display_name": "Python 3 (ipykernel)",
   "language": "python",
   "name": "python3"
  },
  "language_info": {
   "codemirror_mode": {
    "name": "ipython",
    "version": 3
   },
   "file_extension": ".py",
   "mimetype": "text/x-python",
   "name": "python",
   "nbconvert_exporter": "python",
   "pygments_lexer": "ipython3",
   "version": "3.8.13"
  },
  "vscode": {
   "interpreter": {
    "hash": "3a8525375a41fc33739e090de63ff99192c95d71e9674e5bfee23c38f265cbd2"
   }
  }
 },
 "nbformat": 4,
 "nbformat_minor": 5
}
